{
 "cells": [
  {
   "cell_type": "markdown",
   "metadata": {},
   "source": [
    "# Multilevel and marginal modeling, a case study with the NHANES data\n",
    "\n",
    "DRAFT WORK IN PROGRESS\n",
    "======================\n",
    "\n",
    "This notebook is a counterpart to our introductory regression modeling\n",
    "case study for independent data using the NHANES data.  Here we will\n",
    "build on the basic linear and logistic regression approaches discussed\n",
    "previously in the setting of independent data.  We will be exploring\n",
    "the use of some more advanced regression approaches that can be used\n",
    "for data that are statistically dependent.\n",
    "\n",
    "We begin by importing the libraries that we will be using."
   ]
  },
  {
   "cell_type": "code",
   "execution_count": 1,
   "metadata": {},
   "outputs": [],
   "source": [
    "%matplotlib inline\n",
    "import matplotlib.pyplot as plt\n",
    "import seaborn as sns\n",
    "import pandas as pd\n",
    "import statsmodels.api as sm\n",
    "import numpy as np"
   ]
  },
  {
   "cell_type": "markdown",
   "metadata": {},
   "source": [
    "Data can be *dependent*, or have a *mutilevel structure* for many\n",
    "reasons.  In practice, most datasets exhibit some form of dependence,\n",
    "and it is arguably independent data, not dependent data, that should\n",
    "be treated as the exceptional case. Here we will reconsider the NHANES\n",
    "data from the perspective of dependence, focusing in particular on\n",
    "dependence in the data that arises due to *clustering* which we will\n",
    "define below.\n",
    "\n",
    "First, we read in the data, as we have done before.  For simplicity,\n",
    "we remove all rows of data with missing values in the variables of\n",
    "interest (note that there are more sophisticated approaches for\n",
    "handling missing data that generally will give better results, but for\n",
    "simplicity we do not use them here).\n",
    "\n",
    "Note that we retain two variables here\n",
    "[SDMVSTRA](https://wwwn.cdc.gov/Nchs/Nhanes/2015-2016/DEMO_I.htm#SDMVSTRA)\n",
    "and\n",
    "[SDMVPSU](https://wwwn.cdc.gov/Nchs/Nhanes/2015-2016/DEMO_I.htm#SDMVPSU)\n",
    "that will be used below to define the clustering structure in these\n",
    "data."
   ]
  },
  {
   "cell_type": "code",
   "execution_count": 2,
   "metadata": {},
   "outputs": [],
   "source": [
    "url = \"https://raw.githubusercontent.com/kshedden/statswpy/master/NHANES/merged/nhanes_2015_2016.csv\"\n",
    "da = pd.read_csv(url)\n",
    "\n",
    "# Drop unused columns, drop rows with any missing values.\n",
    "vars = [\"BPXSY1\", \"RIDAGEYR\", \"RIAGENDR\", \"RIDRETH1\", \"DMDEDUC2\", \"BMXBMI\",\n",
    "        \"SMQ020\", \"SDMVSTRA\", \"SDMVPSU\"]\n",
    "da = da[vars].dropna()"
   ]
  },
  {
   "cell_type": "markdown",
   "metadata": {},
   "source": [
    "## Introduction to clustered data\n",
    "\n",
    "One common reason that data are dependent is that the data values were\n",
    "collected in clusters.  This essentially means that the population was\n",
    "partitioned into groups, a limited number of these groups were somehow\n",
    "selected, and then a limited number of individuals were selected from\n",
    "each of the selected groups.  In a proper survey, there is a\n",
    "well-planned design, in which both the groups, and the individuals\n",
    "within groups, are selected randomly.  The goal in doing this is to\n",
    "maximize the chances that the sample is representative of the\n",
    "population of interest in all relevant ways.  But many other data sets\n",
    "exhibit clustering structure, even when the data collection was not so\n",
    "carefully planned.\n",
    "\n",
    "Regardless of how the clustering in the sample arose, it is likely to\n",
    "be the case that observations within a cluster are more similar to\n",
    "observations in different clusters.  To make this concrete, note that\n",
    "clustering is often geographic.  Data may be collected by visiting\n",
    "several locations, then recruiting participants within each location.\n",
    "People within a location may share similarities, for example in\n",
    "demography and lifestyle, or they may share environmental\n",
    "circumstances such as climate.  When we have clustered data, it is\n",
    "usually advisable to account for this in the analysis.\n",
    "\n",
    "## Clustering structure in NHANES\n",
    "\n",
    "The detailed process of collecting data for a study like NHANES is\n",
    "very complex, so we will simplify things substantially here (more\n",
    "details can be found\n",
    "[here](https://wwwn.cdc.gov/nchs/nhanes/analyticguidelines.aspx) but\n",
    "are not needed for this course). Roughly speaking, in NHANES the data\n",
    "are collected by selecting a limited number of counties in the US,\n",
    "then selecting subregions of these counties, then selecting people\n",
    "within these subregions.  Since counties are geographically\n",
    "constrained, it is expected that people within a county are more\n",
    "similar to each other than they are to people in other counties.\n",
    "\n",
    "If we could obtain the county id where each NHANES participant\n",
    "resides, we could directly study this clustering structure.  However\n",
    "for privacy reasons this information is not released with the data.\n",
    "Instead, we have access to \"masked variance units\" (MVUs), which are\n",
    "formed by combining subregions of different counties into artificial\n",
    "groups that are not geographically contiguous.  While the MVUs are not\n",
    "the actual clusters of the survey, and are not truly contiguous\n",
    "geographic regions, they are deliberately selected to mimic these\n",
    "things, while minimizing the risk that a subject can be \"unmasked\" in\n",
    "the data.  For the remainder of this notebook, we will treat the MVUs\n",
    "as clusters, and explore the extent to which they induce correlations\n",
    "in some of the NHANES variables that we have been studying.\u0013\n",
    "\n",
    "The MVU identifiers can be obtained by combining the `SDMVSTRA` and\n",
    "`SDMVPSU` identifiers, which we do next:"
   ]
  },
  {
   "cell_type": "code",
   "execution_count": 3,
   "metadata": {},
   "outputs": [],
   "source": [
    "da[\"group\"] = 10*da.SDMVSTRA + da.SDMVPSU"
   ]
  },
  {
   "cell_type": "markdown",
   "metadata": {},
   "source": [
    "## Intraclass correlation\n",
    "\n",
    "Similarity among observations within a cluster can be measured using a\n",
    "statistic called the *intraclass correlation*, or ICC.  This is a\n",
    "distinct form of correlation from Pearson's correlation.  The ICC\n",
    "takes on values from 0 to 1, with 1 corresponding to \"perfect\n",
    "clustering\" -- the values within a cluster are identical, and 0\n",
    "corresponding to \"perfect independence\" -- the mean value within each\n",
    "cluster is identical across all the clusters.\n",
    "\n",
    "We can assess ICC using two regression techniques, *marginal\n",
    "regression*, and *multilevel regression*.  We will start by using a\n",
    "technique called \"Generalized Estimating Equations\" (GEE) to fit\n",
    "marginal linear models, and to estimate the ICC for the NHANES\n",
    "clusters.\n",
    "\n",
    "We will first look at the ICC for systolic blood pressure:"
   ]
  },
  {
   "cell_type": "code",
   "execution_count": 4,
   "metadata": {},
   "outputs": [
    {
     "name": "stdout",
     "output_type": "stream",
     "text": [
      "The correlation between two observations in the same cluster is 0.030\n"
     ]
    }
   ],
   "source": [
    "model = sm.GEE.from_formula(\"BPXSY1 ~ 1\", groups=\"group\",\n",
    "           cov_struct=sm.cov_struct.Exchangeable(), data=da)\n",
    "result = model.fit()\n",
    "print(result.cov_struct.summary())"
   ]
  },
  {
   "cell_type": "markdown",
   "metadata": {},
   "source": [
    "The estimated ICC is 0.03, which is small but not negligible.\n",
    "Although an ICC is a type of correlation, its values are not directly\n",
    "comparable to Pearson correlation values.  While 0.03 would generally\n",
    "be considered to be very small as a Pearson correlation coefficient,\n",
    "it is not especially small as an ICC.\n",
    "\n",
    "To get a more systematic view of the ICC values induced by clustering\n",
    "in these data, we calculate the ICC for a number of different\n",
    "variables that appear in our analyses, either as outcomes or as\n",
    "predictors."
   ]
  },
  {
   "cell_type": "code",
   "execution_count": 5,
   "metadata": {},
   "outputs": [
    {
     "name": "stdout",
     "output_type": "stream",
     "text": [
      "BPXSY1 The correlation between two observations in the same cluster is 0.030\n",
      "RIDAGEYR The correlation between two observations in the same cluster is 0.035\n"
     ]
    },
    {
     "name": "stdout",
     "output_type": "stream",
     "text": [
      "BMXBMI The correlation between two observations in the same cluster is 0.039\n",
      "smq The correlation between two observations in the same cluster is 0.026\n"
     ]
    },
    {
     "name": "stdout",
     "output_type": "stream",
     "text": [
      "SDMVSTRA The correlation between two observations in the same cluster is 0.959\n"
     ]
    }
   ],
   "source": [
    "# Recode smoking to a simple binary variable\n",
    "da[\"smq\"] = da.SMQ020.replace({2: 0, 7: np.nan, 9: np.nan})\n",
    "\n",
    "for v in [\"BPXSY1\", \"RIDAGEYR\", \"BMXBMI\", \"smq\", \"SDMVSTRA\"]:\n",
    "    model = sm.GEE.from_formula(v + \" ~ 1\", groups=\"group\",\n",
    "           cov_struct=sm.cov_struct.Exchangeable(), data=da)\n",
    "    result = model.fit()\n",
    "    print(v, result.cov_struct.summary())"
   ]
  },
  {
   "cell_type": "markdown",
   "metadata": {},
   "source": [
    "The values are generally similar to what we saw for blood pressure,\n",
    "except for `SDMVSTRA`, which is one component of the cluster\n",
    "definition itself, and therefore has a very high ICC.\n",
    "\n",
    "To illustrate that the ICC values shown above are not consistent with\n",
    "a complete absence of dependence, we simulate 10 sets of random data\n",
    "and calculate the ICC value for each set:"
   ]
  },
  {
   "cell_type": "code",
   "execution_count": 6,
   "metadata": {},
   "outputs": [
    {
     "name": "stdout",
     "output_type": "stream",
     "text": [
      "SDMVSTRA The correlation between two observations in the same cluster is -0.002\n"
     ]
    },
    {
     "name": "stdout",
     "output_type": "stream",
     "text": [
      "SDMVSTRA The correlation between two observations in the same cluster is -0.001\n",
      "SDMVSTRA The correlation between two observations in the same cluster is -0.001\n"
     ]
    },
    {
     "name": "stdout",
     "output_type": "stream",
     "text": [
      "SDMVSTRA The correlation between two observations in the same cluster is 0.002\n"
     ]
    },
    {
     "name": "stdout",
     "output_type": "stream",
     "text": [
      "SDMVSTRA The correlation between two observations in the same cluster is -0.002\n"
     ]
    },
    {
     "name": "stdout",
     "output_type": "stream",
     "text": [
      "SDMVSTRA The correlation between two observations in the same cluster is 0.001\n",
      "SDMVSTRA The correlation between two observations in the same cluster is 0.000\n"
     ]
    },
    {
     "name": "stdout",
     "output_type": "stream",
     "text": [
      "SDMVSTRA The correlation between two observations in the same cluster is -0.001\n"
     ]
    },
    {
     "name": "stdout",
     "output_type": "stream",
     "text": [
      "SDMVSTRA The correlation between two observations in the same cluster is -0.000\n"
     ]
    },
    {
     "name": "stdout",
     "output_type": "stream",
     "text": [
      "SDMVSTRA The correlation between two observations in the same cluster is -0.000\n"
     ]
    }
   ],
   "source": [
    "for k in range(10):\n",
    "    da[\"noise\"] = np.random.normal(size=da.shape[0])\n",
    "    model = sm.GEE.from_formula(\"noise ~ 1\", groups=\"group\",\n",
    "           cov_struct=sm.cov_struct.Exchangeable(), data=da)\n",
    "    result = model.fit()\n",
    "    print(v, result.cov_struct.summary())"
   ]
  },
  {
   "cell_type": "markdown",
   "metadata": {},
   "source": [
    "We see that the estimated ICC for pure simulated noise is random but\n",
    "highly concentrated near zero, varying from around `-0.002` to\n",
    "`+0.002`.\n",
    "\n",
    "## Conditional intraclass correlation\n",
    "\n",
    "The ICC's studied above were *marginal*, in the sense that we were\n",
    "looking at whether, say, the SBP values were more similar within\n",
    "versus between clusters.  To the extent that such \"cluster effects\"\n",
    "are found, it may be largely explained by demographic differences\n",
    "among the clusters.  For example, we know from our previous analyses\n",
    "with the NHANES data that older people have higher SBP than younger\n",
    "people.  Also, some clusters may contain a slightly older or younger\n",
    "set of people than others.  Thus, by controlling for age, we might\n",
    "anticipate that the ICC will become smaller.  This is shown in the\n",
    "next analysis:"
   ]
  },
  {
   "cell_type": "code",
   "execution_count": 7,
   "metadata": {},
   "outputs": [
    {
     "name": "stdout",
     "output_type": "stream",
     "text": [
      "The correlation between two observations in the same cluster is 0.019\n"
     ]
    }
   ],
   "source": [
    "model = sm.GEE.from_formula(\"BPXSY1 ~ RIDAGEYR\", groups=\"group\",\n",
    "           cov_struct=sm.cov_struct.Exchangeable(), data=da)\n",
    "result = model.fit()\n",
    "print(result.cov_struct.summary())"
   ]
  },
  {
   "cell_type": "markdown",
   "metadata": {},
   "source": [
    "The ICC for SBP drops from 0.03 to 0.02.  We can now assess whether it\n",
    "drops even further when we add additional covariates that we know to\n",
    "be predictive of blood pressure."
   ]
  },
  {
   "cell_type": "code",
   "execution_count": 8,
   "metadata": {},
   "outputs": [
    {
     "name": "stdout",
     "output_type": "stream",
     "text": [
      "The correlation between two observations in the same cluster is 0.013\n"
     ]
    }
   ],
   "source": [
    "da[\"RIAGENDRx\"] = da.RIAGENDR.replace({1: \"Male\", 2: \"Female\"})\n",
    "\n",
    "model = sm.GEE.from_formula(\"BPXSY1 ~ RIDAGEYR + RIAGENDRx + BMXBMI + C(RIDRETH1)\",\n",
    "           groups=\"group\",\n",
    "           cov_struct=sm.cov_struct.Exchangeable(), data=da)\n",
    "result = model.fit()\n",
    "print(result.cov_struct.summary())"
   ]
  },
  {
   "cell_type": "markdown",
   "metadata": {},
   "source": [
    "The variable\n",
    "[RIDRETH1](https://wwwn.cdc.gov/Nchs/Nhanes/2015-2016/DEMO_I.htm#RIDRETH1)\n",
    "is a categorical variable containing 5 levels of race/ethnicity\n",
    "information.  Since NHANES variables are coded numerically,\n",
    "Statsmodels would have no way of knowing that these are codes and not\n",
    "quantitative data, thus we must use the `C()` syntax in the formula\n",
    "above to force this variable to be treated as being categorical.  We\n",
    "see here that the ICC has further reduced, to 0.013, due to\n",
    "controlling for these additional factors including ethnicity.\n",
    "\n",
    "## Marginal linear models with dependent data\n",
    "\n",
    "Above we focused on quantifying the dependence induced by clustering.\n",
    "By understanding the clustering structure, we have gained additional\n",
    "insight about the data that complements our understanding of the mean\n",
    "structure.  Another facet of working with dependent data is that while\n",
    "the mean structure (i.e. the regression coefficients) can be estimated\n",
    "without considering the dependence structure of the data, the standard\n",
    "errors and other statistics relating to uncertainty will be wrong when\n",
    "we ignore dependence in the data.\n",
    "\n",
    "To illustrate this, below we fit two models with the same mean\n",
    "structure to the NHANES data.  The first is a multiple regression\n",
    "model fit using \"ordinary least squares\" (the default method for\n",
    "independent data).  The second is fit using GEE, which allows us to\n",
    "account for the dependence in the data."
   ]
  },
  {
   "cell_type": "code",
   "execution_count": 9,
   "metadata": {},
   "outputs": [
    {
     "name": "stdout",
     "output_type": "stream",
     "text": [
      "                   OLS_params    OLS_SE  GEE_params    GEE_SE\n",
      "Intercept           91.736583  1.339378   92.168530  1.384309\n",
      "RIAGENDRx[T.Male]    3.671294  0.453763    3.650245  0.454498\n",
      "C(RIDRETH1)[T.2]     0.855488  0.819486    0.159296  0.767025\n",
      "C(RIDRETH1)[T.3]    -1.796132  0.671954   -2.233280  0.760228\n",
      "C(RIDRETH1)[T.4]     3.813314  0.732355    3.105654  0.881580\n",
      "C(RIDRETH1)[T.5]    -0.455347  0.808948   -0.439831  0.813675\n",
      "RIDAGEYR             0.478699  0.012901    0.474101  0.018493\n",
      "BMXBMI               0.278015  0.033285    0.280205  0.038553\n"
     ]
    }
   ],
   "source": [
    "# Fit a linear model with OLS\n",
    "model1 = sm.OLS.from_formula(\"BPXSY1 ~ RIDAGEYR + RIAGENDRx + BMXBMI + C(RIDRETH1)\",\n",
    "           data=da)\n",
    "result1 = model1.fit()\n",
    "\n",
    "# Git a marginal linear model using GEE to handle dependent data\n",
    "model2 = sm.GEE.from_formula(\"BPXSY1 ~ RIDAGEYR + RIAGENDRx + BMXBMI + C(RIDRETH1)\",\n",
    "           groups=\"group\",\n",
    "           cov_struct=sm.cov_struct.Exchangeable(), data=da)\n",
    "result2 = model2.fit()\n",
    "\n",
    "x = pd.DataFrame({\"OLS_params\": result1.params, \"OLS_SE\": result1.bse,\n",
    "                  \"GEE_params\": result2.params, \"GEE_SE\": result2.bse})\n",
    "x = x[[\"OLS_params\", \"OLS_SE\", \"GEE_params\", \"GEE_SE\"]]\n",
    "print(x)"
   ]
  },
  {
   "cell_type": "markdown",
   "metadata": {},
   "source": [
    "In the results above, we see that the point estimates are similar\n",
    "between the OLS and GEE fits of the model, but the standard errors\n",
    "tend to be larger in the GEE fit.  For example, the standard errors\n",
    "for BMI and age are 20-40% larger in the GEE fit.  Since we know that\n",
    "there is dependence in these data that is driven by clustering, the\n",
    "OLS approach is not theoretically justified (the OLS parameter\n",
    "estimates remain in meaningful, but the standard errors do not).  GEE\n",
    "parameter estimates and standard errors are meaningful in the presence\n",
    "of dependence, as long as the dependence is exclusively between\n",
    "observations within the same cluster.\n",
    "\n",
    "## Marginal logistic regression with dependent data\n",
    "\n",
    "Above we used GEE to fit marginal linear models in the presence of\n",
    "dependence.  GEE can also be used to git any GLM in the presence of\n",
    "dependence.  We illustrate this using models relating smoking history\n",
    "to several demographic predictor variables.  These are the same models\n",
    "we fit in our previous notebook using GLM, which ignores the\n",
    "clustering.  Below we fit this same GLM again for comparison, then we\n",
    "fit the marginal model using GEE.  One thing to emphasize in doing\n",
    "this is that the GLM and GEE are both legitimate estimators of the\n",
    "marginal mean structure here.  However GLM will not give correct\n",
    "standard errors, so everything derived from standard errors\n",
    "(e.g. confidence intervals and hypothesis tests) will not be correct."
   ]
  },
  {
   "cell_type": "code",
   "execution_count": 10,
   "metadata": {},
   "outputs": [
    {
     "name": "stdout",
     "output_type": "stream",
     "text": [
      "                             OLS_params    OLS_SE  GEE_params    GEE_SE\n",
      "Intercept                     -2.305999  0.114308   -2.249820  0.140567\n",
      "RIAGENDRx[T.Male]              0.909597  0.060167    0.908682  0.062342\n",
      "C(DMDEDUC2x)[T.HS]             0.943364  0.089663    0.887965  0.095397\n",
      "C(DMDEDUC2x)[T.SomeCollege]    0.832227  0.084361    0.771636  0.104449\n",
      "C(DMDEDUC2x)[T.lt9]            0.266228  0.109183    0.321784  0.141327\n",
      "C(DMDEDUC2x)[T.x9_11]          1.098561  0.106697    1.062149  0.138401\n",
      "RIDAGEYR                       0.018257  0.001725    0.017416  0.001803\n"
     ]
    }
   ],
   "source": [
    "# Relabel the levels, convert rare categories to missing.\n",
    "da[\"DMDEDUC2x\"] = da.DMDEDUC2.replace({1: \"lt9\", 2: \"x9_11\", 3: \"HS\", 4: \"SomeCollege\",\n",
    "                                       5: \"College\", 7: np.nan, 9: np.nan})\n",
    "\n",
    "# Fit a basic GLM\n",
    "model1 = sm.GLM.from_formula(\"smq ~ RIDAGEYR + RIAGENDRx + C(DMDEDUC2x)\",\n",
    "           family=sm.families.Binomial(), data=da)\n",
    "result1 = model1.fit()\n",
    "result1.summary()\n",
    "\n",
    "# Fit a marginal GLM using GEE\n",
    "model2 = sm.GEE.from_formula(\"smq ~ RIDAGEYR + RIAGENDRx + C(DMDEDUC2x)\",\n",
    "           groups=\"group\", family=sm.families.Binomial(),\n",
    "           cov_struct=sm.cov_struct.Exchangeable(), data=da)\n",
    "result2 = model2.fit(start_params=result1.params)\n",
    "\n",
    "x = pd.DataFrame({\"OLS_params\": result1.params, \"OLS_SE\": result1.bse,\n",
    "                  \"GEE_params\": result2.params, \"GEE_SE\": result2.bse})\n",
    "x = x[[\"OLS_params\", \"OLS_SE\", \"GEE_params\", \"GEE_SE\"]]\n",
    "print(x)"
   ]
  },
  {
   "cell_type": "markdown",
   "metadata": {},
   "source": [
    "As expected, the results show that the GLM and the GEE give very\n",
    "similar estimates for the regression parameters.  However the standard\n",
    "errors obtained using GEE are somewhat larger than those obtained\n",
    "using GLM.  This indicates that GLM understates the uncertainty in the\n",
    "estimated mean structure, which is a direct consequence of it ignoring\n",
    "the dependence structure.  The GEE results do not suffer from this\n",
    "weakness.\n",
    "\n",
    "To the extent that the GLM and GEE parameter estimates differ, this is\n",
    "due to GEE attempting to exploit the dependence structure to obtain\n",
    "more efficient (i.e. more accurate) estimates of the model parameters.\n",
    "Thus, in summary we can see GEE as trying to accomplish three things\n",
    "above and beyond what we obtain from GLM: 1) GEE gives us insight into\n",
    "the dependence structure of the data, 2) GEE uses the dependence\n",
    "structure to estimate the model parameters more accurately, and 3) GEE\n",
    "uses the dependence structure to obtain meaningful standard errors of\n",
    "the estimated model parameters.  In contrast, GLM does not achieve point 1\n",
    "at all, and in terms of point 3, the GLM standard errors can be far\n",
    "too optimistic (i.e. too small) -- note that in this case even with\n",
    "weak clustering (ICC around 0.02-0.04), some of the standard errors\n",
    "have increased by 10-40%.  Finally, with regard to point 2, GEE should\n",
    "in general have an efficiency advantage over GLM, but GLM estimates\n",
    "remain \"valid\" and cannot be completely dismissed solely on this\n",
    "ground.\n",
    "\n",
    "## Multilevel models\n",
    "\n",
    "Multilevel modeling is a large topic, and some aspects of it are quite\n",
    "advanced.  Here, we will explore one facet of multilevel modeling,\n",
    "using it as an alternative way to accommodate dependence in data.  In\n",
    "this sense, multilevel modeling is an alternative to the marginal\n",
    "regression analysis demonstrated above.\n",
    "\n",
    "In the setting of linear regression, mutilevel models and marginal\n",
    "models are similar in most ways (note that more substantial differences\n",
    "between marginal and multilevel models emerge in the case of logistic\n",
    "regression, and in other generalized linear or nonlinear models).\n",
    "Multilevel models and marginal models estimate the same population\n",
    "target, but represent this target in different ways, and utilize\n",
    "different estimation procedures.\n",
    "\n",
    "A multilevel model is usually expressed in terms of *random effects*.\n",
    "These are variables that we do not observe, but that we can\n",
    "nevertheless incorporate into a statistical model.  We cannot get into\n",
    "all of the technical details here, but it is important to understand\n",
    "that while these random effects are not observed, their presence can\n",
    "be inferred in the data, as long as each random effect is modeled as\n",
    "influencing at least two observations.\n",
    "\n",
    "In the present setting, we are focusing only on dependence that arises\n",
    "through a single level of clustering.  To put this in the context of\n",
    "multilevel modeling, we can imagine that each cluster has a random\n",
    "effect that is shared by all observations in that cluster.  For\n",
    "example, if SBP tends to be around 0.5 units higher in one cluster,\n",
    "then the random effect for that cluster would be 0.5, and it would add\n",
    "to the predicted SBP for every observation in the cluster."
   ]
  },
  {
   "cell_type": "code",
   "execution_count": 11,
   "metadata": {},
   "outputs": [
    {
     "data": {
      "text/html": [
       "<table class=\"simpletable\">\n",
       "<tr>\n",
       "       <td>Model:</td>       <td>MixedLM</td> <td>Dependent Variable:</td>   <td>BPXSY1</td>   \n",
       "</tr>\n",
       "<tr>\n",
       "  <td>No. Observations:</td>  <td>5102</td>         <td>Method:</td>          <td>REML</td>    \n",
       "</tr>\n",
       "<tr>\n",
       "     <td>No. Groups:</td>      <td>30</td>          <td>Scale:</td>         <td>256.6952</td>  \n",
       "</tr>\n",
       "<tr>\n",
       "  <td>Min. group size:</td>    <td>106</td>       <td>Likelihood:</td>     <td>-21409.8702</td>\n",
       "</tr>\n",
       "<tr>\n",
       "  <td>Max. group size:</td>    <td>226</td>       <td>Converged:</td>          <td>Yes</td>    \n",
       "</tr>\n",
       "<tr>\n",
       "  <td>Mean group size:</td>   <td>170.1</td>           <td></td>                <td></td>      \n",
       "</tr>\n",
       "</table>\n",
       "<table class=\"simpletable\">\n",
       "<tr>\n",
       "          <td></td>           <th>Coef.</th> <th>Std.Err.</th>    <th>z</th>   <th>P>|z|</th> <th>[0.025</th> <th>0.975]</th>\n",
       "</tr>\n",
       "<tr>\n",
       "  <th>Intercept</th>         <td>92.173</td>   <td>1.402</td>  <td>65.752</td> <td>0.000</td> <td>89.426</td> <td>94.921</td>\n",
       "</tr>\n",
       "<tr>\n",
       "  <th>RIAGENDRx[T.Male]</th>  <td>3.650</td>   <td>0.452</td>   <td>8.084</td> <td>0.000</td>  <td>2.765</td>  <td>4.535</td>\n",
       "</tr>\n",
       "<tr>\n",
       "  <th>C(RIDRETH1)[T.2]</th>   <td>0.153</td>   <td>0.887</td>   <td>0.172</td> <td>0.863</td> <td>-1.586</td>  <td>1.891</td>\n",
       "</tr>\n",
       "<tr>\n",
       "  <th>C(RIDRETH1)[T.3]</th>  <td>-2.238</td>   <td>0.758</td>  <td>-2.954</td> <td>0.003</td> <td>-3.723</td> <td>-0.753</td>\n",
       "</tr>\n",
       "<tr>\n",
       "  <th>C(RIDRETH1)[T.4]</th>   <td>3.098</td>   <td>0.836</td>   <td>3.707</td> <td>0.000</td>  <td>1.460</td>  <td>4.737</td>\n",
       "</tr>\n",
       "<tr>\n",
       "  <th>C(RIDRETH1)[T.5]</th>  <td>-0.439</td>   <td>0.878</td>  <td>-0.500</td> <td>0.617</td> <td>-2.161</td>  <td>1.282</td>\n",
       "</tr>\n",
       "<tr>\n",
       "  <th>RIDAGEYR</th>           <td>0.474</td>   <td>0.013</td>  <td>36.482</td> <td>0.000</td>  <td>0.449</td>  <td>0.500</td>\n",
       "</tr>\n",
       "<tr>\n",
       "  <th>BMXBMI</th>             <td>0.280</td>   <td>0.033</td>   <td>8.404</td> <td>0.000</td>  <td>0.215</td>  <td>0.346</td>\n",
       "</tr>\n",
       "<tr>\n",
       "  <th>group Var</th>          <td>3.615</td>   <td>0.085</td>     <td></td>      <td></td>       <td></td>       <td></td>   \n",
       "</tr>\n",
       "</table>"
      ],
      "text/plain": [
       "<class 'statsmodels.iolib.summary2.Summary'>\n",
       "\"\"\"\n",
       "           Mixed Linear Model Regression Results\n",
       "============================================================\n",
       "Model:             MixedLM  Dependent Variable:  BPXSY1     \n",
       "No. Observations:  5102     Method:              REML       \n",
       "No. Groups:        30       Scale:               256.6952   \n",
       "Min. group size:   106      Likelihood:          -21409.8702\n",
       "Max. group size:   226      Converged:           Yes        \n",
       "Mean group size:   170.1                                    \n",
       "------------------------------------------------------------\n",
       "                  Coef.  Std.Err.   z    P>|z| [0.025 0.975]\n",
       "------------------------------------------------------------\n",
       "Intercept         92.173    1.402 65.752 0.000 89.426 94.921\n",
       "RIAGENDRx[T.Male]  3.650    0.452  8.084 0.000  2.765  4.535\n",
       "C(RIDRETH1)[T.2]   0.153    0.887  0.172 0.863 -1.586  1.891\n",
       "C(RIDRETH1)[T.3]  -2.238    0.758 -2.954 0.003 -3.723 -0.753\n",
       "C(RIDRETH1)[T.4]   3.098    0.836  3.707 0.000  1.460  4.737\n",
       "C(RIDRETH1)[T.5]  -0.439    0.878 -0.500 0.617 -2.161  1.282\n",
       "RIDAGEYR           0.474    0.013 36.482 0.000  0.449  0.500\n",
       "BMXBMI             0.280    0.033  8.404 0.000  0.215  0.346\n",
       "group Var          3.615    0.085                           \n",
       "============================================================\n",
       "\n",
       "\"\"\""
      ]
     },
     "execution_count": 11,
     "metadata": {},
     "output_type": "execute_result"
    }
   ],
   "source": [
    "# Git a multilevel (mixed effects) model to handle dependent data\n",
    "model = sm.MixedLM.from_formula(\"BPXSY1 ~ RIDAGEYR + RIAGENDRx + BMXBMI + C(RIDRETH1)\",\n",
    "           groups=\"group\", data=da)\n",
    "result = model.fit()\n",
    "result.summary()"
   ]
  },
  {
   "cell_type": "markdown",
   "metadata": {},
   "source": [
    "The \"variance structure parameters\" are what distinguish a mixed model\n",
    "from a marginal model.  Here we only have one such parameter, which is\n",
    "the variance for groups, estimated to be 3.615.  This means that if we\n",
    "were to choose two groups at random, their random effects would differ\n",
    "on average by around 2.69 (this is calculated as the square root of\n",
    "`2*3.615`).  This is a sizable shift, comparable to the difference\n",
    "between females and males, or to around 6 years of aging.\n",
    "\n",
    "We have seen here that it least in this setting, the mixed modeling\n",
    "procedure accommodates dependence in the data, provides rigorous\n",
    "estimates of the strength of this dependence, and accounts for the\n",
    "dependence in both estimation and inference for the regression\n",
    "parameters.  In this sense, the multilevel model has the same\n",
    "desirable properties as GEE (at least in this setting).  In fact, each\n",
    "of these two methods is very useful and widely utilized.  There are\n",
    "some settings where either GEE or multilevel modeling can be argued to\n",
    "have an advantage, but neither uniformly dominates the other in terms\n",
    "of utility.\n",
    "\n",
    "Multilevel models can also be used to estimate ICC values.  In the\n",
    "case of a model with one level, which is what we have here, the ICC is\n",
    "the variance of the grouping variable (3.615) divided by the sum of\n",
    "the variance of the grouping variable and the unexplained variance\n",
    "(256.7).  Note that the unexplained variance is in upper part of the\n",
    "output, labeled *scale*.  This ratio is around 0.014, which is very\n",
    "similar to the estimated ICC obtained using GEE.\n",
    "\n",
    "### Predicted random effects\n",
    "\n",
    "While the actual random effects in a multilevel model are never observable,\n",
    "we can predict them from the data.  This is sometimes useful, although\n",
    "the emphasis in multilevel regression usually lies with the structural\n",
    "parameters that underly the random effects, and not the random effects\n",
    "themselves.  In the NHANES analysis, for example, we could use the predicted random\n",
    "effects to quantify the uniqueness of each county relative to the mean.\n",
    "\n",
    "The predicted random effects for the 30 groups in this analysis\n",
    "are shown below:"
   ]
  },
  {
   "cell_type": "code",
   "execution_count": 12,
   "metadata": {},
   "outputs": [
    {
     "data": {
      "text/plain": [
       "{1191: group   -1.630976\n",
       " dtype: float64, 1192: group   -0.086162\n",
       " dtype: float64, 1201: group   -2.042661\n",
       " dtype: float64, 1202: group   -0.147472\n",
       " dtype: float64, 1211: group    0.280623\n",
       " dtype: float64, 1212: group    1.580732\n",
       " dtype: float64, 1221: group    0.283347\n",
       " dtype: float64, 1222: group    0.131512\n",
       " dtype: float64, 1231: group   -2.038171\n",
       " dtype: float64, 1232: group    0.617651\n",
       " dtype: float64, 1241: group    2.878488\n",
       " dtype: float64, 1242: group   -0.519364\n",
       " dtype: float64, 1251: group    2.064967\n",
       " dtype: float64, 1252: group    1.521281\n",
       " dtype: float64, 1261: group   -1.261975\n",
       " dtype: float64, 1262: group    0.980846\n",
       " dtype: float64, 1271: group    0.118031\n",
       " dtype: float64, 1272: group   -0.128397\n",
       " dtype: float64, 1281: group   -0.384862\n",
       " dtype: float64, 1282: group   -3.582111\n",
       " dtype: float64, 1291: group   -3.271017\n",
       " dtype: float64, 1292: group   -0.829538\n",
       " dtype: float64, 1301: group   -0.884171\n",
       " dtype: float64, 1302: group    2.790657\n",
       " dtype: float64, 1311: group   -0.585201\n",
       " dtype: float64, 1312: group    1.198291\n",
       " dtype: float64, 1321: group   -0.195692\n",
       " dtype: float64, 1322: group    1.955515\n",
       " dtype: float64, 1331: group   -0.305559\n",
       " dtype: float64, 1332: group    1.491389\n",
       " dtype: float64}"
      ]
     },
     "execution_count": 12,
     "metadata": {},
     "output_type": "execute_result"
    }
   ],
   "source": [
    "result.random_effects"
   ]
  },
  {
   "cell_type": "markdown",
   "metadata": {},
   "source": [
    "Based on these predicted random effects (also known as *BLUPs*), we\n",
    "see, for example, that cluster 1241 has unusually high SBP, and\n",
    "cluster 1282 has unusually low SBP.  These deviations from what\n",
    "is expected are observed after adjusting for the covariates in the\n",
    "model, and hence are presumably driven by other characteristics\n",
    "of these clusters that are not reflected in the covariates.\n",
    "\n",
    "### Random slopes\n",
    "\n",
    "Multilevel modeling is abroad framework that allows many different\n",
    "types of models to be specified and fit.  Here we are primarily\n",
    "focusing on the \"random intercept models\", that allow the data in\n",
    "each cluster to be shifted by a common amount, in order to account\n",
    "for stable confounders within clusters.  Above we found some evidence\n",
    "that such clustering is present in the data, albeit at a weak level.\n",
    "Next we consider a more subtle form of cluster effect, in which the\n",
    "slope for a specific covariate differs from cluster to cluster.\n",
    "This is called a *random slopes model*.  To demonstrate, below we\n",
    "fit a model in which SBP has cluster-specific intercepts, and cluster-specific\n",
    "slopes on age.  That is, we ask whether the rate at which blood pressure\n",
    "increases with age might differ from one cluster to the next.\n",
    "\n",
    "We fit two variations on this model.  In the first model, the cluster-specific\n",
    "intercepts and slopes are independent random variables.  That is, a cluster\n",
    "with unusually high SBP is no more or less likely to have unusually rapid increase\n",
    "of SBP with age.  Note that when working with random slopes, it\n",
    "is usually advisable to center any covariate which has a random slope.  This\n",
    "does not change the fundamental interpretation of the model, but it does\n",
    "often result in models that converge faster and more robustly."
   ]
  },
  {
   "cell_type": "code",
   "execution_count": 13,
   "metadata": {},
   "outputs": [
    {
     "name": "stderr",
     "output_type": "stream",
     "text": [
      "/nfs/kshedden/Envs/py3/lib/python3.5/site-packages/statsmodels/regression/mixed_linear_model.py:2045: ConvergenceWarning: The MLE may be on the boundary of the parameter space.\n",
      "  warnings.warn(msg, ConvergenceWarning)\n"
     ]
    },
    {
     "data": {
      "text/html": [
       "<table class=\"simpletable\">\n",
       "<tr>\n",
       "       <td>Model:</td>       <td>MixedLM</td> <td>Dependent Variable:</td>   <td>BPXSY1</td>   \n",
       "</tr>\n",
       "<tr>\n",
       "  <td>No. Observations:</td>  <td>5102</td>         <td>Method:</td>          <td>REML</td>    \n",
       "</tr>\n",
       "<tr>\n",
       "     <td>No. Groups:</td>      <td>30</td>          <td>Scale:</td>         <td>258.5006</td>  \n",
       "</tr>\n",
       "<tr>\n",
       "  <td>Min. group size:</td>    <td>106</td>       <td>Likelihood:</td>     <td>-21420.6217</td>\n",
       "</tr>\n",
       "<tr>\n",
       "  <td>Max. group size:</td>    <td>226</td>       <td>Converged:</td>          <td>Yes</td>    \n",
       "</tr>\n",
       "<tr>\n",
       "  <td>Mean group size:</td>   <td>170.1</td>           <td></td>                <td></td>      \n",
       "</tr>\n",
       "</table>\n",
       "<table class=\"simpletable\">\n",
       "<tr>\n",
       "          <td></td>           <th>Coef.</th>  <th>Std.Err.</th>    <th>z</th>   <th>P>|z|</th> <th>[0.025</th>  <th>0.975]</th> \n",
       "</tr>\n",
       "<tr>\n",
       "  <th>Intercept</th>         <td>115.468</td>   <td>1.201</td>  <td>96.176</td> <td>0.000</td> <td>113.115</td> <td>117.821</td>\n",
       "</tr>\n",
       "<tr>\n",
       "  <th>RIAGENDRx[T.Male]</th>  <td>3.690</td>    <td>0.453</td>   <td>8.145</td> <td>0.000</td>  <td>2.802</td>   <td>4.577</td> \n",
       "</tr>\n",
       "<tr>\n",
       "  <th>C(RIDRETH1)[T.2]</th>   <td>0.725</td>    <td>0.823</td>   <td>0.881</td> <td>0.378</td> <td>-0.887</td>   <td>2.337</td> \n",
       "</tr>\n",
       "<tr>\n",
       "  <th>C(RIDRETH1)[T.3]</th>  <td>-1.848</td>    <td>0.677</td>  <td>-2.728</td> <td>0.006</td> <td>-3.176</td>  <td>-0.520</td> \n",
       "</tr>\n",
       "<tr>\n",
       "  <th>C(RIDRETH1)[T.4]</th>   <td>3.721</td>    <td>0.737</td>   <td>5.051</td> <td>0.000</td>  <td>2.277</td>   <td>5.164</td> \n",
       "</tr>\n",
       "<tr>\n",
       "  <th>C(RIDRETH1)[T.5]</th>  <td>-0.605</td>    <td>0.812</td>  <td>-0.745</td> <td>0.456</td> <td>-2.198</td>   <td>0.987</td> \n",
       "</tr>\n",
       "<tr>\n",
       "  <th>age_cen</th>            <td>0.476</td>    <td>0.018</td>  <td>25.881</td> <td>0.000</td>  <td>0.440</td>   <td>0.512</td> \n",
       "</tr>\n",
       "<tr>\n",
       "  <th>BMXBMI</th>             <td>0.277</td>    <td>0.033</td>   <td>8.330</td> <td>0.000</td>  <td>0.212</td>   <td>0.342</td> \n",
       "</tr>\n",
       "<tr>\n",
       "  <th>age Var</th>            <td>0.005</td>    <td>0.000</td>     <td></td>      <td></td>       <td></td>        <td></td>    \n",
       "</tr>\n",
       "</table>"
      ],
      "text/plain": [
       "<class 'statsmodels.iolib.summary2.Summary'>\n",
       "\"\"\"\n",
       "             Mixed Linear Model Regression Results\n",
       "===============================================================\n",
       "Model:              MixedLM   Dependent Variable:   BPXSY1     \n",
       "No. Observations:   5102      Method:               REML       \n",
       "No. Groups:         30        Scale:                258.5006   \n",
       "Min. group size:    106       Likelihood:           -21420.6217\n",
       "Max. group size:    226       Converged:            Yes        \n",
       "Mean group size:    170.1                                      \n",
       "---------------------------------------------------------------\n",
       "                   Coef.  Std.Err.   z    P>|z|  [0.025  0.975]\n",
       "---------------------------------------------------------------\n",
       "Intercept         115.468    1.201 96.176 0.000 113.115 117.821\n",
       "RIAGENDRx[T.Male]   3.690    0.453  8.145 0.000   2.802   4.577\n",
       "C(RIDRETH1)[T.2]    0.725    0.823  0.881 0.378  -0.887   2.337\n",
       "C(RIDRETH1)[T.3]   -1.848    0.677 -2.728 0.006  -3.176  -0.520\n",
       "C(RIDRETH1)[T.4]    3.721    0.737  5.051 0.000   2.277   5.164\n",
       "C(RIDRETH1)[T.5]   -0.605    0.812 -0.745 0.456  -2.198   0.987\n",
       "age_cen             0.476    0.018 25.881 0.000   0.440   0.512\n",
       "BMXBMI              0.277    0.033  8.330 0.000   0.212   0.342\n",
       "age Var             0.005    0.000                             \n",
       "===============================================================\n",
       "\n",
       "\"\"\""
      ]
     },
     "execution_count": 13,
     "metadata": {},
     "output_type": "execute_result"
    }
   ],
   "source": [
    "da[\"age_cen\"] = da.RIDAGEYR - da.RIDAGEYR.mean()\n",
    "\n",
    "# Git a multilevel (mixed effects) model to handle dependent data\n",
    "model = sm.MixedLM.from_formula(\"BPXSY1 ~ age_cen + RIAGENDRx + BMXBMI + C(RIDRETH1)\",\n",
    "           groups=\"group\", vc_formula={\"age\": \"0+age_cen\"}, data=da)\n",
    "result = model.fit()\n",
    "result.summary()"
   ]
  },
  {
   "cell_type": "markdown",
   "metadata": {},
   "source": [
    "Next, we fit a model in which the cluster-specific\n",
    "intercepts and slopes are allowed to be correlated."
   ]
  },
  {
   "cell_type": "code",
   "execution_count": 14,
   "metadata": {},
   "outputs": [
    {
     "name": "stderr",
     "output_type": "stream",
     "text": [
      "/nfs/kshedden/Envs/py3/lib/python3.5/site-packages/statsmodels/regression/mixed_linear_model.py:2045: ConvergenceWarning: The MLE may be on the boundary of the parameter space.\n",
      "  warnings.warn(msg, ConvergenceWarning)\n"
     ]
    },
    {
     "data": {
      "text/html": [
       "<table class=\"simpletable\">\n",
       "<tr>\n",
       "       <td>Model:</td>       <td>MixedLM</td> <td>Dependent Variable:</td>   <td>BPXSY1</td>   \n",
       "</tr>\n",
       "<tr>\n",
       "  <td>No. Observations:</td>  <td>5102</td>         <td>Method:</td>          <td>REML</td>    \n",
       "</tr>\n",
       "<tr>\n",
       "     <td>No. Groups:</td>      <td>30</td>          <td>Scale:</td>         <td>255.4192</td>  \n",
       "</tr>\n",
       "<tr>\n",
       "  <td>Min. group size:</td>    <td>106</td>       <td>Likelihood:</td>     <td>-21404.0135</td>\n",
       "</tr>\n",
       "<tr>\n",
       "  <td>Max. group size:</td>    <td>226</td>       <td>Converged:</td>          <td>Yes</td>    \n",
       "</tr>\n",
       "<tr>\n",
       "  <td>Mean group size:</td>   <td>170.1</td>           <td></td>                <td></td>      \n",
       "</tr>\n",
       "</table>\n",
       "<table class=\"simpletable\">\n",
       "<tr>\n",
       "           <td></td>            <th>Coef.</th>  <th>Std.Err.</th>    <th>z</th>   <th>P>|z|</th> <th>[0.025</th>  <th>0.975]</th> \n",
       "</tr>\n",
       "<tr>\n",
       "  <th>Intercept</th>           <td>115.525</td>   <td>1.268</td>  <td>91.127</td> <td>0.000</td> <td>113.041</td> <td>118.010</td>\n",
       "</tr>\n",
       "<tr>\n",
       "  <th>RIAGENDRx[T.Male]</th>    <td>3.675</td>    <td>0.451</td>   <td>8.153</td> <td>0.000</td>  <td>2.791</td>   <td>4.558</td> \n",
       "</tr>\n",
       "<tr>\n",
       "  <th>C(RIDRETH1)[T.2]</th>     <td>0.079</td>    <td>0.883</td>   <td>0.089</td> <td>0.929</td> <td>-1.653</td>   <td>1.810</td> \n",
       "</tr>\n",
       "<tr>\n",
       "  <th>C(RIDRETH1)[T.3]</th>    <td>-2.165</td>    <td>0.758</td>  <td>-2.856</td> <td>0.004</td> <td>-3.651</td>  <td>-0.679</td> \n",
       "</tr>\n",
       "<tr>\n",
       "  <th>C(RIDRETH1)[T.4]</th>     <td>3.174</td>    <td>0.832</td>   <td>3.814</td> <td>0.000</td>  <td>1.543</td>   <td>4.806</td> \n",
       "</tr>\n",
       "<tr>\n",
       "  <th>C(RIDRETH1)[T.5]</th>    <td>-0.488</td>    <td>0.874</td>  <td>-0.558</td> <td>0.577</td> <td>-2.201</td>   <td>1.225</td> \n",
       "</tr>\n",
       "<tr>\n",
       "  <th>age_cen</th>              <td>0.469</td>    <td>0.018</td>  <td>26.417</td> <td>0.000</td>  <td>0.434</td>   <td>0.504</td> \n",
       "</tr>\n",
       "<tr>\n",
       "  <th>BMXBMI</th>               <td>0.280</td>    <td>0.033</td>   <td>8.430</td> <td>0.000</td>  <td>0.215</td>   <td>0.346</td> \n",
       "</tr>\n",
       "<tr>\n",
       "  <th>group Var</th>            <td>3.497</td>    <td>0.084</td>     <td></td>      <td></td>       <td></td>        <td></td>    \n",
       "</tr>\n",
       "<tr>\n",
       "  <th>group x age_cen Cov</th>  <td>0.071</td>    <td>0.003</td>     <td></td>      <td></td>       <td></td>        <td></td>    \n",
       "</tr>\n",
       "<tr>\n",
       "  <th>age_cen Var</th>          <td>0.004</td>    <td>0.000</td>     <td></td>      <td></td>       <td></td>        <td></td>    \n",
       "</tr>\n",
       "</table>"
      ],
      "text/plain": [
       "<class 'statsmodels.iolib.summary2.Summary'>\n",
       "\"\"\"\n",
       "              Mixed Linear Model Regression Results\n",
       "=================================================================\n",
       "Model:                MixedLM   Dependent Variable:   BPXSY1     \n",
       "No. Observations:     5102      Method:               REML       \n",
       "No. Groups:           30        Scale:                255.4192   \n",
       "Min. group size:      106       Likelihood:           -21404.0135\n",
       "Max. group size:      226       Converged:            Yes        \n",
       "Mean group size:      170.1                                      \n",
       "-----------------------------------------------------------------\n",
       "                     Coef.  Std.Err.   z    P>|z|  [0.025  0.975]\n",
       "-----------------------------------------------------------------\n",
       "Intercept           115.525    1.268 91.127 0.000 113.041 118.010\n",
       "RIAGENDRx[T.Male]     3.675    0.451  8.153 0.000   2.791   4.558\n",
       "C(RIDRETH1)[T.2]      0.079    0.883  0.089 0.929  -1.653   1.810\n",
       "C(RIDRETH1)[T.3]     -2.165    0.758 -2.856 0.004  -3.651  -0.679\n",
       "C(RIDRETH1)[T.4]      3.174    0.832  3.814 0.000   1.543   4.806\n",
       "C(RIDRETH1)[T.5]     -0.488    0.874 -0.558 0.577  -2.201   1.225\n",
       "age_cen               0.469    0.018 26.417 0.000   0.434   0.504\n",
       "BMXBMI                0.280    0.033  8.430 0.000   0.215   0.346\n",
       "group Var             3.497    0.084                             \n",
       "group x age_cen Cov   0.071    0.003                             \n",
       "age_cen Var           0.004    0.000                             \n",
       "=================================================================\n",
       "\n",
       "\"\"\""
      ]
     },
     "execution_count": 14,
     "metadata": {},
     "output_type": "execute_result"
    }
   ],
   "source": [
    "da[\"age_cen\"] = da.RIDAGEYR - da.RIDAGEYR.mean()\n",
    "\n",
    "# Git a multilevel (mixed effects) model to handle dependent data\n",
    "model = sm.MixedLM.from_formula(\"BPXSY1 ~ age_cen + RIAGENDRx + BMXBMI + C(RIDRETH1)\",\n",
    "           groups=\"group\", re_formula=\"1+age_cen\", data=da)\n",
    "result = model.fit()\n",
    "result.summary()"
   ]
  },
  {
   "cell_type": "markdown",
   "metadata": {},
   "source": [
    "### Multilevel logistic regression\n",
    "\n",
    "Logistic regression models with random effects can be fit using a technique\n",
    "that is somewhat analogous to the way that we fit mixed linear models.\n",
    "The computational algorithms used to fit these models are quite advanced.\n",
    "Versions of these algorithms have been implemented in the development\n",
    "version of Statsmodels, but are not yet released.  At this point, it\n",
    "may not be practical to fit multilevel logistic models in Python,\n",
    "but this should become a possibility in the near future."
   ]
  }
 ],
 "metadata": {},
 "nbformat": 4,
 "nbformat_minor": 1
}
