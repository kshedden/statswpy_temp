{
 "cells": [
  {
   "cell_type": "markdown",
   "metadata": {},
   "source": [
    "# Multilevel and marginal modeling, a case study with the NHANES data\n",
    "\n",
    "DRAFT WORK IN PROGRESS\n",
    "======================\n",
    "\n",
    "This notebook is a counterpart to our introductory regression modeling\n",
    "notebook for independent data using the NHANES data.  Here we will\n",
    "build on the basic linear and logistic regression approaches discussed\n",
    "previously in the case of independent data.  We will be exploring the\n",
    "use of some more advanced regression approaches that can be used for\n",
    "data that are dependent.\n",
    "\n",
    "We begin by importing the libraries that we will be using."
   ]
  },
  {
   "cell_type": "code",
   "execution_count": 1,
   "metadata": {},
   "outputs": [],
   "source": [
    "%matplotlib inline\n",
    "import matplotlib.pyplot as plt\n",
    "import seaborn as sns\n",
    "import pandas as pd\n",
    "import statsmodels.api as sm\n",
    "import numpy as np"
   ]
  },
  {
   "cell_type": "markdown",
   "metadata": {},
   "source": [
    "Data can be dependent, or have a *mutilevel structure* for many\n",
    "reasons.  In practice, most datasets exhibit some form of dependence,\n",
    "and it is arguably independent data, not dependent data, that should\n",
    "be treated as the exceptional case.\n",
    "\n",
    "Here we will reconsider the NHANES data from the perspective of\n",
    "dependence, focusing in particular on dependence in the data that\n",
    "arises due to *clustering* which we will define below.\n",
    "\n",
    "First, we read in the data, as we have done before.  For simplicity,\n",
    "we remove all rows with missing values in the variables of interest\n",
    "(note that there are more sophisticated approaches for handling\n",
    "missing data that generall will give better results).\n",
    "\n",
    "We retain two additional variables here\n",
    "[SDMVSTRA](https://wwwn.cdc.gov/Nchs/Nhanes/2015-2016/DEMO_I.htm#SDMVSTRA)\n",
    "and\n",
    "[SDMVPSU](https://wwwn.cdc.gov/Nchs/Nhanes/2015-2016/DEMO_I.htm#SDMVPSU)\n",
    "which will be used below to define the clustering structure in these\n",
    "data."
   ]
  },
  {
   "cell_type": "code",
   "execution_count": 2,
   "metadata": {},
   "outputs": [],
   "source": [
    "url = \"https://raw.githubusercontent.com/kshedden/statswpy/master/NHANES/merged/nhanes_2015_2016.csv\"\n",
    "da = pd.read_csv(url)\n",
    "\n",
    "# Drop unused columns, drop rows with any missing values.\n",
    "vars = [\"BPXSY1\", \"RIDAGEYR\", \"RIAGENDR\", \"RIDRETH1\", \"DMDEDUC2\", \"BMXBMI\",\n",
    "        \"SMQ020\", \"SDMVSTRA\", \"SDMVPSU\"]\n",
    "da = da[vars].dropna()"
   ]
  },
  {
   "cell_type": "markdown",
   "metadata": {},
   "source": [
    "## Introduction to clustered data\n",
    "\n",
    "One common reason that data are dependent is that the data values were\n",
    "collected in clusters.  This essentially means that the population was\n",
    "partitioned into groups, a limited number of these groups were somehow\n",
    "selected, and then a limited number of individuals were selected from\n",
    "each of the selected groups.  In a proper survey, there is a\n",
    "well-planned design, in which both the groups, and the individuals\n",
    "within groups, are selected randomly.  The goal in doing this is to\n",
    "maximize the chances that the sample is representative of the\n",
    "population of interest in all relevant ways.  But many other data sets\n",
    "exhibit clustering structure, even when the data collection was not so\n",
    "carefully planned.\n",
    "\n",
    "Regardless of how the clustering in the sample arose, it is likely to\n",
    "be the case that observations within a cluster are more similar to\n",
    "observations in different clusters.  To make this concrete, note that\n",
    "clustering is often geographic.  Data may be collected by visiting\n",
    "several locations, then recruiting participants within each location.\n",
    "People within a location may share similarities, for example in\n",
    "demography and lifestyle, or they may share environmental\n",
    "circumstances such as climate.  When we have clustered data, it is\n",
    "usually advisable to account for this in the analysis.\n",
    "\n",
    "## Clustering structure in NHANES\n",
    "\n",
    "The detailed process of collecting data for a study like NHANES is\n",
    "very complex, so we will simplify things substantially here.  Roughly\n",
    "speaking, in NHANES the data are collected by selecting a limited\n",
    "number of counties in the US, then selecting subregions of these\n",
    "counties, then selecting people within these subregions.  Since\n",
    "counties are geographically constrained, it is expected that people\n",
    "within a county are more similar to each other than they are to people\n",
    "in other counties.\n",
    "\n",
    "If we could obtain the county id for each NHANES participant, we could\n",
    "directly study this clustering structure.  However for privacy reasons\n",
    "this information is not released with the data.  Instead, we have\n",
    "access to \"masked variance units\" (MVUs), which are formed by\n",
    "combining subregions of different counties into artificial groups that\n",
    "are not geographically contiguous.  While the MVUs are not the actual\n",
    "clusters of the survey, and are not truly contiguous geographic\n",
    "regions, they are deliberately selected to mimic these things, while\n",
    "minimizing the risk that a subject can be \"unmasked\" in the data.  For\n",
    "the remainder of this notebook, we will treat the MVUs as clusters,\n",
    "and explore the extent to which they induce correlations in some of\n",
    "the NHANES variables that we have been studying.\u0013\n",
    "\n",
    "The MVU identifiers can be obtained by combining the `SDMVSTRA` and\n",
    "`SDMVPSU` identifiers, which we do next:"
   ]
  },
  {
   "cell_type": "code",
   "execution_count": 3,
   "metadata": {},
   "outputs": [],
   "source": [
    "da[\"group\"] = 10*da.SDMVSTRA + da.SDMVPSU"
   ]
  },
  {
   "cell_type": "markdown",
   "metadata": {},
   "source": [
    "## Intraclass correlation\n",
    "\n",
    "Similarity among observations within a cluster can be measured using a\n",
    "statistic called the *intraclass correlation*, or ICC.  This is a\n",
    "distinct form of correlation from Pearson's correlation.  It takes on\n",
    "values from 0 to 1, with 1 corresponding to \"perfect clustering\" --\n",
    "the values within a cluster are identical, and 0 corresponding to\n",
    "\"perfect independence\" -- the mean value within each cluster is\n",
    "identical across all the clusters.\n",
    "\n",
    "We can assess ICC using two regression techniques, marginal\n",
    "regression, and multilevel regression.  We will start by using a\n",
    "technique called \"Generalized Estimating Equations\" (GEE) to fit\n",
    "marginal linear models, and to estimate the ICC for the NHANES\n",
    "clusters.\n",
    "\n",
    "We will first look at the ICC for systolic blood pressure:"
   ]
  },
  {
   "cell_type": "code",
   "execution_count": 4,
   "metadata": {},
   "outputs": [
    {
     "name": "stdout",
     "output_type": "stream",
     "text": [
      "The correlation between two observations in the same cluster is 0.030\n"
     ]
    }
   ],
   "source": [
    "model = sm.GEE.from_formula(\"BPXSY1 ~ 1\", groups=\"group\",\n",
    "           cov_struct=sm.cov_struct.Exchangeable(), data=da)\n",
    "result = model.fit()\n",
    "print(result.cov_struct.summary())"
   ]
  },
  {
   "cell_type": "markdown",
   "metadata": {},
   "source": [
    "The estimated ICC is 0.03, which is small but not negligible.  Although\n",
    "an ICC is a type of correlation, its values are not directly\n",
    "comparable to Pearson correlation values.  While 0.03 would generally\n",
    "be considered to be very small as a Pearson correlation coefficient,\n",
    "it is not especially small as an ICC.\n",
    "\n",
    "To get a more systematic view of the ICC values induced by clustering\n",
    "in these data, we calculate the ICC for a number of different\n",
    "variables that appear in our analyses, either as outcomes or as\n",
    "predictors."
   ]
  },
  {
   "cell_type": "code",
   "execution_count": 5,
   "metadata": {},
   "outputs": [
    {
     "name": "stdout",
     "output_type": "stream",
     "text": [
      "BPXSY1 The correlation between two observations in the same cluster is 0.030\n",
      "RIDAGEYR The correlation between two observations in the same cluster is 0.035\n"
     ]
    },
    {
     "name": "stdout",
     "output_type": "stream",
     "text": [
      "BMXBMI The correlation between two observations in the same cluster is 0.039\n",
      "smq The correlation between two observations in the same cluster is 0.026\n"
     ]
    },
    {
     "name": "stdout",
     "output_type": "stream",
     "text": [
      "SDMVSTRA The correlation between two observations in the same cluster is 0.959\n"
     ]
    }
   ],
   "source": [
    "da[\"smq\"] = da.SMQ020.replace({2: 0, 7: np.nan, 9: np.nan})\n",
    "\n",
    "for v in [\"BPXSY1\", \"RIDAGEYR\", \"BMXBMI\", \"smq\", \"SDMVSTRA\"]:\n",
    "    model = sm.GEE.from_formula(v + \" ~ 1\", groups=\"group\",\n",
    "           cov_struct=sm.cov_struct.Exchangeable(), data=da)\n",
    "    result = model.fit()\n",
    "    print(v, result.cov_struct.summary())"
   ]
  },
  {
   "cell_type": "markdown",
   "metadata": {},
   "source": [
    "The values are generally similar to what we saw for blood\n",
    "pressure, except for `SDMVSTRA`, which is one component of\n",
    "the cluster definition itself, and therefore has a very high ICC.\n",
    "\n",
    "To illustrate that the ICC values shown above are not consistent with\n",
    "a complete absence of dependence, we simulate 10 sets of random data\n",
    "and calculate the ICC value for each set:"
   ]
  },
  {
   "cell_type": "code",
   "execution_count": 6,
   "metadata": {},
   "outputs": [
    {
     "name": "stdout",
     "output_type": "stream",
     "text": [
      "SDMVSTRA The correlation between two observations in the same cluster is 0.002\n",
      "SDMVSTRA The correlation between two observations in the same cluster is -0.002\n"
     ]
    },
    {
     "name": "stdout",
     "output_type": "stream",
     "text": [
      "SDMVSTRA The correlation between two observations in the same cluster is 0.001\n"
     ]
    },
    {
     "name": "stdout",
     "output_type": "stream",
     "text": [
      "SDMVSTRA The correlation between two observations in the same cluster is 0.001\n"
     ]
    },
    {
     "name": "stdout",
     "output_type": "stream",
     "text": [
      "SDMVSTRA The correlation between two observations in the same cluster is 0.001\n",
      "SDMVSTRA The correlation between two observations in the same cluster is -0.000\n"
     ]
    },
    {
     "name": "stdout",
     "output_type": "stream",
     "text": [
      "SDMVSTRA The correlation between two observations in the same cluster is -0.001\n",
      "SDMVSTRA The correlation between two observations in the same cluster is -0.002\n"
     ]
    },
    {
     "name": "stdout",
     "output_type": "stream",
     "text": [
      "SDMVSTRA The correlation between two observations in the same cluster is 0.001\n"
     ]
    },
    {
     "name": "stdout",
     "output_type": "stream",
     "text": [
      "SDMVSTRA The correlation between two observations in the same cluster is -0.001\n"
     ]
    }
   ],
   "source": [
    "for k in range(10):\n",
    "    da[\"noise\"] = np.random.normal(size=da.shape[0])\n",
    "    model = sm.GEE.from_formula(\"noise ~ 1\", groups=\"group\",\n",
    "           cov_struct=sm.cov_struct.Exchangeable(), data=da)\n",
    "    result = model.fit()\n",
    "    print(v, result.cov_struct.summary())"
   ]
  },
  {
   "cell_type": "markdown",
   "metadata": {},
   "source": [
    "We see that the estimated ICC for pure simulated noise is random\n",
    "but highly concentrated around zero, varying from aroun `-0.002`\n",
    "to `+0.002`.\n",
    "\n",
    "## Conditional intraclass correlation\n",
    "\n",
    "The ICC's studied above were *marginal*, in the sense that we were\n",
    "looking at whether, say, the SBP values were more similar within\n",
    "versus between clusters.  To the extent that such differences are\n",
    "found, it may be largely explained by demographic differences among\n",
    "the clusters.  For example, we know from our previous analyses with\n",
    "the NHANES data that older people have higher SBP than younger people.\n",
    "Also, some clusters may contain a slightly older or younger set of\n",
    "people than others.  Thus, by controlling for age, we might\n",
    "anticipate that the ICC will become smaller.  This is shown in the next\n",
    "analysis:"
   ]
  },
  {
   "cell_type": "code",
   "execution_count": 7,
   "metadata": {},
   "outputs": [
    {
     "name": "stdout",
     "output_type": "stream",
     "text": [
      "The correlation between two observations in the same cluster is 0.019\n"
     ]
    }
   ],
   "source": [
    "model = sm.GEE.from_formula(\"BPXSY1 ~ RIDAGEYR\", groups=\"group\",\n",
    "           cov_struct=sm.cov_struct.Exchangeable(), data=da)\n",
    "result = model.fit()\n",
    "print(result.cov_struct.summary())"
   ]
  },
  {
   "cell_type": "markdown",
   "metadata": {},
   "source": [
    "The ICC for SBP drops from 0.03 to 0.02.  We can now assess whether it\n",
    "drops even further when we add additional covariates that we know to\n",
    "be predictive of blood pressure."
   ]
  },
  {
   "cell_type": "code",
   "execution_count": 8,
   "metadata": {},
   "outputs": [
    {
     "name": "stdout",
     "output_type": "stream",
     "text": [
      "The correlation between two observations in the same cluster is 0.018\n"
     ]
    }
   ],
   "source": [
    "da[\"RIAGENDRx\"] = da.RIAGENDR.replace({1: \"Male\", 2: \"Female\"})\n",
    "\n",
    "model = sm.GEE.from_formula(\"BPXSY1 ~ RIDAGEYR + RIAGENDRx + BMXBMI\",\n",
    "           groups=\"group\",\n",
    "           cov_struct=sm.cov_struct.Exchangeable(), data=da)\n",
    "result = model.fit()\n",
    "print(result.cov_struct.summary())"
   ]
  }
 ],
 "metadata": {},
 "nbformat": 4,
 "nbformat_minor": 1
}
