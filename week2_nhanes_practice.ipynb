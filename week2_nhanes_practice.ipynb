{
 "cells": [
  {
   "cell_type": "markdown",
   "metadata": {},
   "source": [
    "# Practice notebook for regression analysis with NHANES\n",
    "\n",
    "This notebook will give you the opportunity to perform some\n",
    "regression analyses with the NHANES data that are similar to\n",
    "the analyses done in the case study notebook.\n",
    "\n",
    "To get started, we will use exactly the same module imports and\n",
    "read the data in the same way as we did in the case study:"
   ]
  },
  {
   "cell_type": "code",
   "execution_count": 1,
   "metadata": {},
   "outputs": [],
   "source": [
    "%matplotlib inline\n",
    "import matplotlib.pyplot as plt\n",
    "import seaborn as sns\n",
    "import pandas as pd\n",
    "import statsmodels.api as sm\n",
    "import numpy as np\n",
    "\n",
    "url = \"https://raw.githubusercontent.com/kshedden/statswpy/master/NHANES/merged/nhanes_2015_2016.csv\"\n",
    "da = pd.read_csv(url)\n",
    "\n",
    "# Drop unused columns, drop rows with any missing values.\n",
    "vars = [\"BPXSY1\", \"RIDAGEYR\", \"RIAGENDR\", \"RIDRETH1\", \"DMDEDUC2\", \"BMXBMI\", \"SMQ020\"]\n",
    "da = da[vars].dropna()"
   ]
  },
  {
   "cell_type": "markdown",
   "metadata": {},
   "source": [
    "1. Use linear regression to relate the expected BMI to a person's age, then answer several questions about the model that you fit."
   ]
  },
  {
   "cell_type": "code",
   "execution_count": 2,
   "metadata": {},
   "outputs": [
    {
     "data": {
      "text/plain": [
       "1"
      ]
     },
     "execution_count": 2,
     "metadata": {},
     "output_type": "execute_result"
    }
   ],
   "source": [
    "1"
   ]
  },
  {
   "cell_type": "markdown",
   "metadata": {},
   "source": [
    "__Questions:__\n",
    "\n",
    "  *  According to your fitted model, do older people tend to have higher or lower BMI than younger people?\n",
    "\n",
    "  *  Based your analysis, are you confident that there is a relationship between BMI and age in the population that NHANES represents?\n",
    "\n",
    "  *  By how much does the average BMI of a 40 year old differ from the average BMI of a 20 year old?\n",
    "\n",
    "  *  What fraction of the variation of BMI in this population is explained by age?\n",
    "\n",
    "2. Now add gender and ethnicity as additional control variables in your linear\n",
    "model relating BMI to age.  You will need to recode the ethnic groups based\n",
    "on the values in the codebook entry for [RIDRETH1](https://wwwn.cdc.gov/Nchs/Nhanes/2015-2016/DEMO_I.htm#RIDRETH1)."
   ]
  },
  {
   "cell_type": "code",
   "execution_count": 3,
   "metadata": {},
   "outputs": [
    {
     "data": {
      "text/plain": [
       "1"
      ]
     },
     "execution_count": 3,
     "metadata": {},
     "output_type": "execute_result"
    }
   ],
   "source": [
    "1"
   ]
  },
  {
   "cell_type": "markdown",
   "metadata": {},
   "source": [
    "__Questions:__\n",
    "\n",
    "* How did the mean relationship between BMI and age change when you added\n",
    "additional covariates to the model?\n",
    "\n",
    "* How did the standard error for the regression parameter for age change\n",
    "when you added additional covariates to the model?\n",
    "\n",
    "* How much additional variation in BMI is explained by age, gender, and\n",
    "ethnicity that is not explained by age alone?\n",
    "\n",
    "* What reference level did the software select for the ethnicity variable?\n",
    "\n",
    "* What is the expected difference between the BMI of a 40 year-old non-Hispanic\n",
    "black man and a 30 year-old non-Hispanic black man?\n",
    "\n",
    "* What is the expected difference between the BMI of a 50 year-old Mexican\n",
    "American woman and a 50 year-old non-Hispanic black man?\n",
    "\n",
    "3. Randomly sample 25% of the NHANES data, then fit the same model you used\n",
    "in question 2 to this data set."
   ]
  },
  {
   "cell_type": "code",
   "execution_count": 4,
   "metadata": {},
   "outputs": [
    {
     "data": {
      "text/plain": [
       "1"
      ]
     },
     "execution_count": 4,
     "metadata": {},
     "output_type": "execute_result"
    }
   ],
   "source": [
    "1"
   ]
  },
  {
   "cell_type": "markdown",
   "metadata": {},
   "source": [
    "__Questions:__\n",
    "\n",
    "* How do the estimated regression coefficients and their standard errors\n",
    "compare between these two models?\n",
    "\n",
    "4. Generate a scatterplot of the residuals against the fitted values for\n",
    "the model you fit in question 2."
   ]
  },
  {
   "cell_type": "code",
   "execution_count": 5,
   "metadata": {},
   "outputs": [
    {
     "data": {
      "text/plain": [
       "1"
      ]
     },
     "execution_count": 5,
     "metadata": {},
     "output_type": "execute_result"
    }
   ],
   "source": [
    "1"
   ]
  },
  {
   "cell_type": "markdown",
   "metadata": {},
   "source": [
    "__Questions:__\n",
    "\n",
    "* What mean/variance relationship do you see?"
   ]
  }
 ],
 "metadata": {},
 "nbformat": 4,
 "nbformat_minor": 1
}
