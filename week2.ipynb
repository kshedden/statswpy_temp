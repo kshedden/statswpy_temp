{
 "cells": [
  {
   "cell_type": "markdown",
   "metadata": {},
   "source": [
    "# Linear and logistic regression modeling\n",
    "\n",
    "This notebook introduces two statistical modeling techniques: linear\n",
    "regression and logistic regression.  The focus here will be on fitting\n",
    "these two types of models using the Python language, together with its statistical\n",
    "modeling libraries.  As with several previous case studies in this\n",
    "course, here we will be analyzing the\n",
    "[NHANES](https://www.cdc.gov/nchs/nhanes/index.htm)\n",
    "data, allowing us to\n",
    "illustrate use of these two regression methods to address meaningful\n",
    "questions with actual data.\n",
    "\n",
    "Note that the NHANES data is collected as a designed survey, and in\n",
    "general should be analyzed as such.  This means that survey design\n",
    "information such as weights, strata, and clusters should be accounted\n",
    "for in any analysis using NHANES.  But to introduce how linear and\n",
    "logistic regression\n",
    "are used with independent data or with convenience samples, we will not\n",
    "incorporate the survey structure of the sample into the analyses\n",
    "conducted here.\n",
    "\n",
    "As with our previous work, we will be using the\n",
    "[http://pydata/.org/pandas](Pandas) library for data management, the\n",
    "[http://numpy.org](Numpy) library for numerical calculations, and the\n",
    "[http://statsmodels.org](Statsmodels) library for statistical\n",
    "modeling.\n",
    "\n",
    "We begin by importing the libraries that we will be using."
   ]
  },
  {
   "cell_type": "code",
   "execution_count": null,
   "metadata": {},
   "outputs": [],
   "source": [
    "import matplotlib\n",
    "matplotlib.use('Agg')\n",
    "import seaborn as sns\n",
    "%matplotlib inline\n",
    "import pandas as pd\n",
    "import statsmodels.api as sm\n",
    "import numpy as np"
   ]
  },
  {
   "cell_type": "markdown",
   "metadata": {},
   "source": [
    "Next we will load the data.  The NHANES study encompasses multiple\n",
    "waves of data collection.  For illustration, here we will use the\n",
    "2015-2016 data."
   ]
  },
  {
   "cell_type": "code",
   "execution_count": null,
   "metadata": {},
   "outputs": [],
   "source": [
    "url = \"https://raw.githubusercontent.com/kshedden/statswpy/master/NHANES/merged/nhanes_2015_2016.csv\"\n",
    "da = pd.read_csv(url)"
   ]
  },
  {
   "cell_type": "markdown",
   "metadata": {},
   "source": [
    "## Linear regression\n",
    "\n",
    "We will focus initially on regression models in which systolic blood\n",
    "pressure (SBP) is the outcome (dependent) variable.  That is, we will\n",
    "predict SBP from other variables.  SBP is an important indicator of\n",
    "cardiovascular health.  It tends to increase with age, is greater for\n",
    "overweight people (i.e. people with greater body mass index or BMI),\n",
    "and also differs among demographic groups, for example among gender\n",
    "and ethnic groups.\n",
    "\n",
    "Since SBP is a quantitative variable, we will model it using linear regression.\n",
    "Linear regression is the most widely-utilized form of statistical\n",
    "regression.  It is commonly used with quantitative outcome variables.\n",
    "Linear regression is not the only type of regression model that can be\n",
    "used with quantitative outcomes, nor is it the case that linear\n",
    "regression can only be used with quantitative outcomes.  However,\n",
    "linear regression is a good default starting point for any regression\n",
    "analysis using a quantitative outcome variable.\n",
    "\n",
    "We start with a simple linear regression model with only one\n",
    "covariate, age, predicting SBP.  In the NHANES data, the variable\n",
    "[BPXSY1](https://wwwn.cdc.gov/Nchs/Nhanes/2015-2016/BPX_G.htm#BPXSY1)\n",
    "contains the first recorded measurement of SBP for a\n",
    "subject, and [RIDAGEYR](https://wwwn.cdc.gov/Nchs/Nhanes/2015-2016/DEMO_G.htm#RIDAGEYR)\n",
    "is the subject's age in years.  The model that\n",
    "is fit in the next cell expresses the expected SBP as a linear\n",
    "function of age."
   ]
  },
  {
   "cell_type": "code",
   "execution_count": null,
   "metadata": {},
   "outputs": [],
   "source": [
    "model = sm.OLS.from_formula(\"BPXSY1 ~ RIDAGEYR\", data=da)\n",
    "result = model.fit()\n",
    "result.summary()"
   ]
  },
  {
   "cell_type": "markdown",
   "metadata": {},
   "source": [
    "Much of the results output above is not relevant for us, so focus\n",
    "on the center section of the output.  This section\n",
    "contains the estimated values of the parameters of the regression\n",
    "model, their standard errors, and other quantities.  This fitted model\n",
    "implies that when comparing two people whose ages differ by one year,\n",
    "the older person will on average have 0.47 units higher SBP than the\n",
    "younger person.  This difference is statistically significant, based\n",
    "on the p-value shown under the column labeled `P>|t|` above.  This\n",
    "means that there is strong evidence that the association between\n",
    "between systolic blood pressure and age in this population is not\n",
    "zero.\n",
    "\n",
    "SBP is measured in units of 'millimeters of mercury', expressed\n",
    "'mm/Hg'.  In order to better understand the magnitude of the estimated\n",
    "parameter 0.47, we can look at the standard deviation of SBP:"
   ]
  },
  {
   "cell_type": "code",
   "execution_count": null,
   "metadata": {},
   "outputs": [],
   "source": [
    "da.BPXSY1.std()"
   ]
  },
  {
   "cell_type": "markdown",
   "metadata": {},
   "source": [
    "The standard deviation of around 18.5 is large compared to the\n",
    "regression slope of 0.47.  However the regression slope corresponds to\n",
    "the average change in SBP for a single year of age, and this effect\n",
    "accumulates with age.  Comparing a 40 year-old person to a 60 year-old\n",
    "person, there is a 20 year difference in age, which translates into a\n",
    "`20 * 0.47 = 9.4` unit difference in average SBP between these two\n",
    "people.  This difference is around half of one standard deviation, and\n",
    "would generally be considered to be an important and meaningful shift.\n",
    "\n",
    "We will also point out here that in the case of regression with a\n",
    "single independent variable, as we have here, there is a very close\n",
    "correspondence between the regression analysis and a Pearson\n",
    "correlation analysis, which we have discussed earlier in course 2.\n",
    "\n",
    "The primary summary statistic for assessing the strength of a\n",
    "predictive relationship in a regression model is the `R^2`, which is\n",
    "shown to be 0.22 in the regression output above.  This means that 22%\n",
    "of the variation in SBP is explained by age.  Note that this value is\n",
    "exactly the same as the squared Pearson correlation coefficient\n",
    "between SBP and age, as shown below."
   ]
  },
  {
   "cell_type": "code",
   "execution_count": null,
   "metadata": {},
   "outputs": [],
   "source": [
    "cc = da[[\"BPXSY1\", \"RIDAGEYR\"]].corr()\n",
    "print(cc.BPXSY1.RIDAGEYR**2)"
   ]
  },
  {
   "cell_type": "markdown",
   "metadata": {},
   "source": [
    "Above we considered a simple linear regression analysis with only one\n",
    "covariate (age) predicting systolic blood pressure (SBP).  The real\n",
    "power of regression analysis arises when we have more than one\n",
    "covariate predicting an outcome.  As noted above, SBP is expected to\n",
    "be related to gender as well as to age, so we next add gender to the\n",
    "model.  The NHANES variable for gender is named [RIAGENDR](https://wwwn.cdc.gov/Nchs/Nhanes/2011-2012/DEMO_G.htm#RIAGENDR]).\n",
    "We create a relabeled version of this variable below."
   ]
  },
  {
   "cell_type": "code",
   "execution_count": null,
   "metadata": {},
   "outputs": [],
   "source": [
    "# Create a labeled version of the gender variable\n",
    "da[\"RIAGENDRx\"] = da.RIAGENDR.replace({1: \"Male\", 2: \"Female\"})\n",
    "\n",
    "model = sm.OLS.from_formula(\"BPXSY1 ~ RIDAGEYR + RIAGENDRx\", data=da)\n",
    "result = model.fit()\n",
    "result.summary()"
   ]
  },
  {
   "cell_type": "markdown",
   "metadata": {},
   "source": [
    "The model that was fit above uses both age and gender to explain the\n",
    "variation in SBP.  It finds that two people with the same gender whose\n",
    "ages differ by one year tend to have blood pressure values differing\n",
    "by 0.47 units, which is essentially the same as what we found above in\n",
    "the model based on age alone.  This model also shows us that comparing\n",
    "a man and a woman of the same age, the man will have 3.44 units\n",
    "greater SBP.\n",
    "\n",
    "It is very important to emphasize that the age coefficient of 0.47 is\n",
    "only meaningful when comparing two people of the same gender, and the\n",
    "gender coefficient of 3.44 is only meaningful when comparing two\n",
    "people of the same age.\n",
    "\n",
    "These effects are additive, meaning that if we compare, say, a 50 year\n",
    "old man to a 40 year old woman, the man's blood pressure will on\n",
    "average be around 3.44 + 10*0.47 = 8.14 units higher, with the first\n",
    "term in this sum being attributable to gender, and the second term\n",
    "being attributable to age.\n",
    "\n",
    "Note also that gender is a categorical variable, and only a\n",
    "coefficient for males is included in the regression output (i.e. there\n",
    "is no coefficient for females).  Whenever a categorical variable is\n",
    "used as a covariate in a regression model, one level of the variable\n",
    "is omitted and is automatically given a coefficient of zero.  This\n",
    "level is called the *reference level* of the covariate.  Here, the\n",
    "female level of the gender variable is the reference level.  This does\n",
    "not mean that being a woman has no impact on blood pressure.  It\n",
    "simply means that we have written the model so that female blood\n",
    "pressure is the default, and the coefficient for males (3.44) shifts\n",
    "the blood pressure by that amount for males only.\n",
    "\n",
    "We could alternatively have set 'male' to be the reference level, in\n",
    "which case males would be the default, and the female coefficient\n",
    "would have been around -3.44 (meaning that female blood pressure is\n",
    "3.44 units lower than the male blood pressure).\n",
    "\n",
    "We noted above that the regression coefficient for age did not change\n",
    "by much when we added gender to the model.  It is important to note\n",
    "however that in general, the estimated coefficient of a variable in a\n",
    "regression model will change when other variables are added or\n",
    "removed.  We see here that a coefficient is nearly unchanged if any\n",
    "variables that are added to or removed from the model are\n",
    "approximately uncorrelated with the other covariates that are already\n",
    "in the model.\n",
    "\n",
    "Below we confirm that gender and age are nearly uncorrelated in this\n",
    "data set (the correlation of around -0.01 is negligible):"
   ]
  },
  {
   "cell_type": "code",
   "execution_count": null,
   "metadata": {},
   "outputs": [],
   "source": [
    "# We need to use the original, numerical version of the gender\n",
    "# variable to calculate the correlation coefficient.\n",
    "da[[\"RIDAGEYR\", \"RIAGENDR\"]].corr()"
   ]
  },
  {
   "cell_type": "markdown",
   "metadata": {},
   "source": [
    "Next we add body mass index (BMI) to the model predicting SBP.\n",
    "[BMXBMI](https://wwwn.cdc.gov/Nchs/Nhanes/2015-2016/BMX_G.htm#BMXBMI)\n",
    "is the NHANES variable containing the BMI value for each subject."
   ]
  },
  {
   "cell_type": "code",
   "execution_count": null,
   "metadata": {},
   "outputs": [],
   "source": [
    "model = sm.OLS.from_formula(\"BPXSY1 ~ RIDAGEYR + BMXBMI + RIAGENDRx\", data=da)\n",
    "result = model.fit()\n",
    "result.summary()"
   ]
  },
  {
   "cell_type": "markdown",
   "metadata": {},
   "source": [
    "Not surprisingly, BMI is positively associated with SBP.  Given two\n",
    "subjects with the same gender and age, and whose BMI differs by 1\n",
    "unit, the person with greater BMI will have, on average, 0.31 units\n",
    "greater systolic blood pressure (SBP).  Also note that after adding\n",
    "BMI to the model, the coefficient for gender became somewhat greater.\n",
    "This is due to the fact that the three covariates in the model, age,\n",
    "gender, and BMI, are mutually correlated, as shown next:"
   ]
  },
  {
   "cell_type": "code",
   "execution_count": null,
   "metadata": {},
   "outputs": [],
   "source": [
    "da[[\"RIDAGEYR\", \"RIAGENDR\", \"BMXBMI\"]].corr()"
   ]
  },
  {
   "cell_type": "markdown",
   "metadata": {},
   "source": [
    "Although the correlations among these three variables are not strong,\n",
    "they are sufficient to induce fairly substantial differences in the\n",
    "regression coefficients (e.g. the gender coefficient changes from 3.44\n",
    "to 3.78).  In this example, the gender effect becomes larger after we\n",
    "control for BMI - we can take this to mean that BMI was masking part\n",
    "of the association with gender.  In other settings, including\n",
    "additional covariates can reduce the association between a covariate\n",
    "and an outcome.\n",
    "\n",
    "### Variance analysis\n",
    "\n",
    "The discussion so far has primarily focused on the mean structure\n",
    "of the regression model, that is, the model for the average\n",
    "SBP of a person with a given age, gender, and BMI.  A regression\n",
    "model can also be used to assess the *variance structure* of the\n",
    "population, that is, how much and in what manner do the observations\n",
    "deviate from this mean.  We will focus on informal, graphical\n",
    "methods for assessing this.\n",
    "\n",
    "To begin with, we plot the residuals against the fitted values.  Recall\n",
    "that the fitted values are the estimated mean for each observation,\n",
    "and the residuals are the difference between an observation and this\n",
    "fitted mean.  The simplest variance pattern that we can see in a\n",
    "linear regression occurs when the points are scattered around the mean,\n",
    "with the same degree of scatter throughout the range of covariates.\n",
    "When there are multiple covariates, it is hard to assess whether\n",
    "the variance is uniform throughout this range, but we can easily check\n",
    "for a \"mean/variance relationship\", in which the variance either increases\n",
    "or decreases with the mean.  The plot of residuals on fitted values\n",
    "is used to assess whether a mean/variance relationship is present."
   ]
  },
  {
   "cell_type": "code",
   "execution_count": null,
   "metadata": {},
   "outputs": [],
   "source": [
    "pp = sns.pointplot(result.fittedvalues, result.resid)\n",
    "pp.set_xlabel(\"Fitted values\")\n",
    "pp.set_ylabel(\"Residuals\")"
   ]
  },
  {
   "cell_type": "code",
   "execution_count": null,
   "metadata": {},
   "outputs": [],
   "source": [
    "from statsmodels.graphics.regressionplots import plot_ccpr\n",
    "\n",
    "plot_ccpr(result, \"RIDAGEYR\")"
   ]
  },
  {
   "cell_type": "markdown",
   "metadata": {},
   "source": [
    "## Logistic regression\n",
    "\n",
    "We now turn to regression models for *binary* outcome variables,\n",
    "meaning an outcome that can take on only two distinct values.\n",
    "For illustration, we will work with the NHANES variable\n",
    "[SMQ020](https://wwwn.cdc.gov/Nchs/Nhanes/2015-2016/SMQ_I.htm#SMQ020),\n",
    "which asks whether a person has smoked at least 100 cigarettes in\n",
    "their lifetime (if this is the case, we say that the person has a\n",
    "\"smoking history\").  Below we create a version of this variable in\n",
    "which smoking and non-smoking are coded as 1 and 0, respectively, and\n",
    "rare responses like *don't know* and *refused to answer* are coded as\n",
    "missing values."
   ]
  },
  {
   "cell_type": "code",
   "execution_count": null,
   "metadata": {},
   "outputs": [],
   "source": [
    "da[\"smq\"] = da.SMQ020.replace({2: 0, 7: np.nan, 9: np.nan})"
   ]
  },
  {
   "cell_type": "markdown",
   "metadata": {},
   "source": [
    "Logistic regression provides a model for the *odds* of an event\n",
    "happening.  Recall that if an event has probability `p`, then the odds\n",
    "for this event is `p/(1-p)`.  The odds is a mathematical\n",
    "transformation of the probability onto a different scale.  For\n",
    "example, if the probability is 1/2, then the odds is 1.\n",
    "\n",
    "To begin, we look at the odds of alcohol use for women and men separately."
   ]
  },
  {
   "cell_type": "code",
   "execution_count": null,
   "metadata": {},
   "outputs": [],
   "source": [
    "c = pd.crosstab(da.RIAGENDRx, da.smq).apply(lambda x: x/x.sum(), axis=1)\n",
    "c[\"odds\"] = c.loc[:, 1] / c.loc[:, 0]\n",
    "c"
   ]
  },
  {
   "cell_type": "markdown",
   "metadata": {},
   "source": [
    "We see that the probability that a woman has ever smoked is\n",
    "substantially lower than the probability that a man has ever smoked\n",
    "(30% versus 51%).  This is reflected in the odds for a woman smoking\n",
    "being much less than 1 (around 0.44), while the odds for a man smoking\n",
    "is around 1.05.\n",
    "\n",
    "It is common to work with *odds ratios* when comparing two groups.\n",
    "This is simply the odds for one group divided by the odds for the other\n",
    "group.  The odds ratio for smoking, comparing males to females, is\n",
    "around 2.4.  In other words, a man has around 2.4 times greater odds of\n",
    "smoking than a woman (in the population represented by these data)."
   ]
  },
  {
   "cell_type": "code",
   "execution_count": null,
   "metadata": {},
   "outputs": [],
   "source": [
    "c.odds.Male / c.odds.Female"
   ]
  },
  {
   "cell_type": "markdown",
   "metadata": {},
   "source": [
    "It is conventional to work with odds on the logarithmic scale.  To understand\n",
    "the motivation for doing this, first note that the neutral point for a\n",
    "probability is 0.5, which is equivalent to an odds of 1 and a log odds\n",
    "of 0.  Populations where men smoke more than women will have odds\n",
    "between 1 and infinity, with the exact value depending on the\n",
    "magnitude of the relationship between the male and female smoking\n",
    "rates.  Populations where women smoke more than men would have odds\n",
    "falling between 0 and 1.\n",
    "\n",
    "We see that the scale of the odds statistic is asymmetric.  It is\n",
    "usually arbitrary in which order we compare two groups -- we could\n",
    "compare men to women, or compare women to men.  An odds of 2 (men have\n",
    "twice the odds of smoking as women) is equivalent in strength to an\n",
    "odds of 1/2 (women have twice the odds of smoking as men).  Taking the\n",
    "log of the odds centers the scale at zero, and symmetrizes the\n",
    "interpretation of the scale.\n",
    "\n",
    "To interpret the log odds when comparing the odds for two groups,\n",
    "first recall that a probability of 1/2, an odds of 1, and a log odds\n",
    "of 0 are all equivalent.  A positive log odds indicates that the first\n",
    "group being compared has greater odds (and greater probability) than\n",
    "the second group, and a negative log odds indicates that the second\n",
    "group being compared has greater odds (and greater probability) than\n",
    "the first group.  The scale of the log odds statistic is symmetric in\n",
    "the sense that a log odds of, say, 2, is equivalent in strength to a\n",
    "log odds of -2 (but with the groups swapped in terms of which has the\n",
    "greater probability).\n",
    "\n",
    "If you know that the log odds when comparing two groups is a given\n",
    "value, say 2, and you want to report the odds, you simply exponentiate\n",
    "the log odds to get the odds, e.g. `exp(2)` is around 7.4. Note\n",
    "however that you cannot recover the individual probabilities (or their\n",
    "ratio) from an odds ratio.`\n",
    "\n",
    "Below we show the log odds for smoking history status of females and\n",
    "males in the NHANES data.  The fact that the log odds for females is\n",
    "negative reflects that fact that substantially less than 50% of\n",
    "females have a history of smoking.  The log odds for males is around\n",
    "0, consistent with around half of males having a history of smoking."
   ]
  },
  {
   "cell_type": "code",
   "execution_count": null,
   "metadata": {},
   "outputs": [],
   "source": [
    "c[\"logodds\"] = np.log(c.odds)\n",
    "c"
   ]
  },
  {
   "cell_type": "markdown",
   "metadata": {},
   "source": [
    "Now that we have a clear understanding of log odds statistics, we wil fit\n",
    "a logistic regression.  The dependent variable (outcome) of this\n",
    "initial model is smoking status, and the only covariate is gender.\n",
    "Thus, we are looking at gender as a predictor of smoking status.  We\n",
    "fit the model using the `GLM` function, where `GLM` stands for\n",
    "\"Generalized Linear Model\".  Logistic regression is one type of GLM,\n",
    "which also includes many other regression methods such as Poisson\n",
    "regression that we do not discuss further here.  As with linear\n",
    "regression, logistic models also include an intercept parameter, but\n",
    "we are not focusing on that parameter now."
   ]
  },
  {
   "cell_type": "code",
   "execution_count": null,
   "metadata": {},
   "outputs": [],
   "source": [
    "model = sm.GLM.from_formula(\"smq ~ RIAGENDRx\", family=sm.families.Binomial(), data=da)\n",
    "result = model.fit()\n",
    "result.summary()"
   ]
  },
  {
   "cell_type": "markdown",
   "metadata": {},
   "source": [
    "To see the connection between logistic regression and the log odds\n",
    "statistic, note that the difference between the log odds statistics\n",
    "for males and females is exactly equal to the logistic regression\n",
    "coefficient for male gender:"
   ]
  },
  {
   "cell_type": "code",
   "execution_count": null,
   "metadata": {},
   "outputs": [],
   "source": [
    "c.logodds.Male - c.logodds.Female"
   ]
  },
  {
   "cell_type": "markdown",
   "metadata": {},
   "source": [
    "This relationship will always hold when\n",
    "conducting a logistic regression with a single binary covariate.\n",
    "\n",
    "In general, a logistic regression model will have multiple covariates\n",
    "that may not be binary, but there is still an important connection\n",
    "between logistic regression and odds ratios.  In this more general setting, we will\n",
    "use a more general type of odds ratio, which we will explore further\n",
    "next.\n",
    "\n",
    "As with linear regression, we can include multiple covariates in a logistic\n",
    "regression.  Below we fit a logistic regression for smoking status\n",
    "using age (RIDAGEYR) and gender as covariates."
   ]
  },
  {
   "cell_type": "code",
   "execution_count": null,
   "metadata": {},
   "outputs": [],
   "source": [
    "model = sm.GLM.from_formula(\"smq ~ RIDAGEYR + RIAGENDRx\", family=sm.families.Binomial(), data=da)\n",
    "result = model.fit()\n",
    "result.summary()"
   ]
  },
  {
   "cell_type": "markdown",
   "metadata": {},
   "source": [
    "Adding age to the model leads to a very small shift in the gender\n",
    "parameter (it changed from 0.88 to 0.90).\n",
    "In general, regression coefficients can change a lot when adding or\n",
    "removing other variables from a model.  But in this case the change is\n",
    "quite minimal.  This fitted model suggests that older people are more\n",
    "likely to have a history of smoking than younger people.  The log odds\n",
    "for smoking increases by 0.02 for each year of age.  This effect is\n",
    "additive, so that comparing two people whose ages differ by 20 years,\n",
    "the log odds of the older person smoking will be around 0.4 units\n",
    "greater than the log odds for the younger person smoking.\n",
    "\n",
    "Similarly, the roles of age and gender in the model are additive.  If\n",
    "we compare a 30 year old female to a 50 year old male, the log odds\n",
    "for the male being a smoker are `0.9 + 0.4 = 1.3` units greater than\n",
    "the log odds for the female being a smoker.  The value of 0.9 in this\n",
    "expression is the change attributable to gender, and the value of 0.4 is\n",
    "the change attributable to age.\n",
    "\n",
    "In this logistic regression model with two covariates, the\n",
    "coefficients for age and gender both have interpretations in terms of\n",
    "*conditional log odds*.  This generalizes the interpretation of a\n",
    "logistic regressioncoefficient in terms of marginal log odds that we discussed above.\n",
    "When there are two or more covariates in a logistic regression model,\n",
    "we always need to think in terms of conditional, not marginal log odds.\n",
    "\n",
    "The coefficient of around 0.9 for male gender impacts the conditional\n",
    "log odds in the sense that when comparing a male to a female at a\n",
    "fixed age, the male will have 0.9 units greater odds for smoking than\n",
    "the female.  This relationship holds within any age (i.e. it holds\n",
    "among all people of age 30, and among all people of age 70).  In this\n",
    "sense, it is a *conditional* coefficient because it is only\n",
    "interpretable when holding the other variables in the model fixed.\n",
    "\n",
    "Similarly, the coefficient of around 0.02 for age holds within a\n",
    "gender.  Comparing two females whose ages differ by one year, the\n",
    "older female has 0.02 units greater log odds for smoking than the\n",
    "younger female.  This same contrast holds for males.\n",
    "\n",
    "Next we fit a logistic regression model, again for smoking, including\n",
    "educational attainment as a predictor.  The educational attainment in\n",
    "NHANES is called [DMDEDUC2](https://wwwn.cdc.gov/Nchs/Nhanes/2015-2016/DEMO_G.htm),\n",
    "and we will recode it so that the meaning\n",
    "of the levels becomes more clear.  We will call the recoded variable\n",
    "`DMDEDUC2x`.\n",
    "\n",
    "When using a categorical variable as a predictor in a regression\n",
    "model, it is recoded into \"dummy variables\" (also known as \"indicator\n",
    "variables\").  A dummy variable for a single level, say `a`, of a\n",
    "variable `x`, is a variable that is equal to `1` when `x=a` and is\n",
    "equal to `0` when `x` is not equal to `a`.  These dummy variables are\n",
    "included in the regression model, to represent the variable that they\n",
    "are derived from.  For technical reasons, one of these variables must\n",
    "be dropped.  The level that is dropped is called the \"reference level\"\n",
    "of the variable.  Most software will automatically recode a\n",
    "categorical variable into dummy variables, and will select a reference\n",
    "level.  When interpreting the regression output, the level that is\n",
    "omitted should be seen as having a coefficient of 0, with a standard\n",
    "error of 0."
   ]
  },
  {
   "cell_type": "code",
   "execution_count": null,
   "metadata": {},
   "outputs": [],
   "source": [
    "da[\"DMDEDUC2x\"] = da.DMDEDUC2.replace({1: \"lt9\", 2: \"x9_11\", 3: \"HS\", 4: \"SomeCollege\",\n",
    "                                       5: \"College\", 7: np.nan, 9: np.nan})\n",
    "model = sm.GLM.from_formula(\"smq ~ RIDAGEYR + RIAGENDRx + DMDEDUC2x\", family=sm.families.Binomial(), data=da)\n",
    "result = model.fit()\n",
    "result.summary()"
   ]
  },
  {
   "cell_type": "markdown",
   "metadata": {},
   "source": [
    "We see that the \"Female\" level of the gender variable, and the\n",
    "\"College\" level of the educational attainment variable are the\n",
    "reference levels, as they are not shown in the output above.  We have\n",
    "discussed the gender and age variables above, but the educational\n",
    "attainment variable is new for us.  All non-refernece coefficients for the\n",
    "educational attainment are positive, while the `College` coefficient,\n",
    "as the reference coefficient, is exactly zero.  Thus, we see that people\n",
    "with a college degree have the lowest rate\n",
    "of smoking, followed by people with less than 9 years of schooling,\n",
    "then people with some college, then people with a high school degree\n",
    "(and no college), and finally (with the greatest rate of smoking),\n",
    "people with 9-11 years of schooling.  The overall story here is that\n",
    "smoking rates are much lower for people who graduated from college or\n",
    "did not start high school, presumably for very different reasons.  On\n",
    "the other hand, people with some high school, people who completed\n",
    "high school, and people who began but did not complete college have\n",
    "much higher rates of smoking.  The odds ratio between the former and\n",
    "the latter group depends on the specific subgroups being compared, but\n",
    "can be almost 3 (`exp(1.07)`).\n",
    "\n",
    "As noted above when we were discussing linear regression, it is\n",
    "important to remember that a coefficient in a logistic regression are\n",
    "\"conditional\" on the other variables being held fixed.  For example,\n",
    "the log odds ratio of 1.07 between people with 9-11 years of schooling\n",
    "and people who completed college applies when comparing people with\n",
    "the same age and gender."
   ]
  }
 ],
 "metadata": {},
 "nbformat": 4,
 "nbformat_minor": 1
}
