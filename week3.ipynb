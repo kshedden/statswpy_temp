{
 "cells": [
  {
   "cell_type": "markdown",
   "metadata": {},
   "source": [
    "# Multilevel and marginal modeling, a case study with the NHANES data\n",
    "\n",
    "DRAFT WORK IN PROGRESS\n",
    "======================\n",
    "\n",
    "This notebook is a counterpart to the introductory regression modeling\n",
    "notebook for independent data.\n",
    "Here we build on the basic linear and logistic regression approaches\n",
    "discussed previously in the case of independent data, and we will also\n",
    "be exploring the use of some more advanced regression\n",
    "approaches for data that are dependent.\n",
    "\n",
    "We begin by importing the libraries that we will be using."
   ]
  },
  {
   "cell_type": "code",
   "execution_count": 1,
   "metadata": {},
   "outputs": [],
   "source": [
    "%matplotlib inline\n",
    "import matplotlib.pyplot as plt\n",
    "import seaborn as sns\n",
    "import pandas as pd\n",
    "import statsmodels.api as sm\n",
    "import numpy as np"
   ]
  },
  {
   "cell_type": "markdown",
   "metadata": {},
   "source": [
    "Data can be dependent, or have a *mutilevel structure* for many reasons.\n",
    "In practice, most datasets exhibit some form of dependence,\n",
    "and it is arguably independent data, not dependent data, that should be treated\n",
    "as the exceptional case.\n",
    "\n",
    "Here we will reconsider the NHANES data from the perspective of dependence,\n",
    "focusing in particular on dependence in the data that arises due to *clustering*\n",
    "which we will define below.\n",
    "\n",
    "First, we read in the data, as we have done before.  We retain two\n",
    "additional variables here [SDMVSTRA](https://wwwn.cdc.gov/Nchs/Nhanes/2015-2016/DEMO_I.htm#SDMVSTRA)\n",
    "and [SDMVPSU](https://wwwn.cdc.gov/Nchs/Nhanes/2015-2016/DEMO_I.htm#SDMVPSU) which will be used\n",
    "below\n",
    "to define the clustering structure in these data."
   ]
  },
  {
   "cell_type": "code",
   "execution_count": 2,
   "metadata": {},
   "outputs": [],
   "source": [
    "url = \"https://raw.githubusercontent.com/kshedden/statswpy/master/NHANES/merged/nhanes_2015_2016.csv\"\n",
    "da = pd.read_csv(url)\n",
    "\n",
    "# Drop unused columns, drop rows with any missing values.\n",
    "vars = [\"BPXSY1\", \"RIDAGEYR\", \"RIAGENDR\", \"RIDRETH1\", \"DMDEDUC2\", \"BMXBMI\",\n",
    "        \"SMQ020\", \"SDMVSTRA\", \"SDMVPSU\"]\n",
    "da = da[vars].dropna()"
   ]
  },
  {
   "cell_type": "markdown",
   "metadata": {},
   "source": [
    "## Introduction to clustered data\n",
    "\n",
    "One common reason that data are dependent is that the data values\n",
    "were collected in clusters.  This essentially means that the population\n",
    "was partitioned into groups, a limited number of these groups were\n",
    "somehow selected, and then a limited number of individuals were\n",
    "selected from each of the selected groups.  In a proper survey, there is\n",
    "a well-planned design, in which both the groups, and the individuals within\n",
    "groups, are selected randomly.  The goal in doing this is to maximize\n",
    "the chances that the sample is representative of the population of interest\n",
    "in all relevant ways.  But many other data sets exhibit\n",
    "clustering structure, even when the data collection was not so\n",
    "carefully planned.\n",
    "\n",
    "Regardless of how the clustering in the sample arose, it is likely to be\n",
    "the case that observations within a cluster are more similar to observations\n",
    "in different clusters.  To make this concrete, note that clustering is\n",
    "often geographic.  Data may be collected by visiting several locations, then\n",
    "recruiting participants within each location.  People within a location\n",
    "may share similarities, for example in demography and lifestyle, or they may\n",
    "share environmental circumstances such as climate.  When\n",
    "we have clustered data, it is usually advisable to account for this in the\n",
    "analysis.\n",
    "\n",
    "## Clustering structure in NHANES\n",
    "\n",
    "The detailed process of collecting data for a study like\n",
    "NHANES is very complex, so we will simplify things substantially here.\n",
    "Roughly speaking, in NHANES the data are collected by selecting a limited number of\n",
    "counties in the US,\n",
    "then selecting subregions of these counties, then selecting people within\n",
    "these subregions.  Since counties are geographically constrained, it is\n",
    "expected that people within a county are more similar to each other than they\n",
    "are to people in other counties.\n",
    "\n",
    "If we could obtain the county id for each\n",
    "NHANES participant, we could directly study this clustering structure.  However\n",
    "for privacy reasons this information is not released with the data.  Instead, we have\n",
    "access to \"masked variance units\" (MVUs), which are formed by combining subregions\n",
    "of different counties into artificial groups that are not geographically\n",
    "contiguous.  While the MVUs are not the actual clusters of the survey,\n",
    "and are not truly contiguous geographic regions, they are deliberately\n",
    "selected to mimic\n",
    "these things, while minimizing the risk that a subject can be \"unmasked\"\n",
    "in the data.  For the remainder of this notebook, we will treat the MVUs\n",
    "as clusters, and explore the extent to which they induce correlations\n",
    "in some of the NHANES variables that we have been studying.\u0013\n",
    "\n",
    "The MVU identifiers can be obtained by combining the `SDMVSTRA` and `SDMVPSU`\n",
    "identifiers, which we do next:"
   ]
  },
  {
   "cell_type": "code",
   "execution_count": 3,
   "metadata": {},
   "outputs": [],
   "source": [
    "da[\"group\"] = 10*da.SDMVSTRA + da.SDMVPSU"
   ]
  },
  {
   "cell_type": "markdown",
   "metadata": {},
   "source": [
    "## Intraclass correlation\n",
    "\n",
    "Similarity among observations within a cluster can be measured using a statistic\n",
    "called the *intraclass correlation*, or ICC.  This is a distinct form of\n",
    "correlation from Pearson's correlation.  It takes on values from 0 to 1, with\n",
    "1 corresponding to \"perfect clustering\" -- the values within a cluster are\n",
    "identical, and 0 corresponding to \"perfect independence\" -- the mean value\n",
    "within each cluster is identical across all the clusters.\n",
    "\n",
    "We can assess ICC using two regression techniques, marginal regression, and multilevel\n",
    "regression.  We will start by using a technique called \"Generalized Estimating Equations\"\n",
    "(GEE) to fit marginal linear models, and to estimate the ICC for the NHANES clusters.\n",
    "\n",
    "We will first look at the ICC for systolic blood pressure:"
   ]
  },
  {
   "cell_type": "code",
   "execution_count": 4,
   "metadata": {},
   "outputs": [
    {
     "name": "stdout",
     "output_type": "stream",
     "text": [
      "The correlation between two observations in the same cluster is 0.030\n"
     ]
    }
   ],
   "source": [
    "model = sm.GEE.from_formula(\"BPXSY1 ~ 1\", groups=\"group\",\n",
    "           cov_struct=sm.cov_struct.Exchangeable(), data=da)\n",
    "result = model.fit()\n",
    "print(result.cov_struct.summary())"
   ]
  },
  {
   "cell_type": "markdown",
   "metadata": {},
   "source": [
    "The estimated ICC is XXX, which is small but not negligible.  Although an ICC\n",
    "is a type of correlation, its values are not directly comparable to Pearson\n",
    "correlation values.  While XXX would generally be considered to be very small\n",
    "as a Pearson correlation coefficient, it is not necessarily very small as an ICC.\n",
    "\n",
    "To get a more systematic view of the ICC values induced by clustering in these\n",
    "data, we calculate the ICC for a number of different variables that appear\n",
    "in our analyses, either as outcomes or as predictors."
   ]
  },
  {
   "cell_type": "code",
   "execution_count": 5,
   "metadata": {},
   "outputs": [
    {
     "name": "stdout",
     "output_type": "stream",
     "text": [
      "BPXSY1 The correlation between two observations in the same cluster is 0.030\n",
      "RIDAGEYR The correlation between two observations in the same cluster is 0.030\n"
     ]
    },
    {
     "name": "stdout",
     "output_type": "stream",
     "text": [
      "BMXBMI The correlation between two observations in the same cluster is 0.030\n",
      "smq The correlation between two observations in the same cluster is 0.030\n"
     ]
    },
    {
     "name": "stdout",
     "output_type": "stream",
     "text": [
      "SDMVSTRA The correlation between two observations in the same cluster is 0.030\n"
     ]
    }
   ],
   "source": [
    "da[\"smq\"] = da.SMQ020.replace({2: 0, 7: np.nan, 9: np.nan})\n",
    "\n",
    "for v in [\"BPXSY1\", \"RIDAGEYR\", \"BMXBMI\", \"smq\", \"SDMVSTRA\"]:\n",
    "    model = sm.GEE.from_formula(\"BPXSY1 ~ 1\", groups=\"group\",\n",
    "           cov_struct=sm.cov_struct.Exchangeable(), data=da)\n",
    "    result = model.fit()\n",
    "    print(v, result.cov_struct.summary())"
   ]
  },
  {
   "cell_type": "markdown",
   "metadata": {},
   "source": [
    "To illustrate that the ICC values shown above are not consistent with a complete\n",
    "absence of dependence, we simulate 10 sets of completely random data and calculate\n",
    "the ICC value for each set:"
   ]
  },
  {
   "cell_type": "code",
   "execution_count": 6,
   "metadata": {},
   "outputs": [
    {
     "name": "stdout",
     "output_type": "stream",
     "text": [
      "SDMVSTRA The correlation between two observations in the same cluster is -0.001\n"
     ]
    },
    {
     "name": "stdout",
     "output_type": "stream",
     "text": [
      "SDMVSTRA The correlation between two observations in the same cluster is -0.001\n",
      "SDMVSTRA The correlation between two observations in the same cluster is -0.001\n"
     ]
    },
    {
     "name": "stdout",
     "output_type": "stream",
     "text": [
      "SDMVSTRA The correlation between two observations in the same cluster is -0.000\n"
     ]
    },
    {
     "name": "stdout",
     "output_type": "stream",
     "text": [
      "SDMVSTRA The correlation between two observations in the same cluster is -0.000\n"
     ]
    },
    {
     "name": "stdout",
     "output_type": "stream",
     "text": [
      "SDMVSTRA The correlation between two observations in the same cluster is 0.002\n",
      "SDMVSTRA The correlation between two observations in the same cluster is 0.002\n"
     ]
    },
    {
     "name": "stdout",
     "output_type": "stream",
     "text": [
      "SDMVSTRA The correlation between two observations in the same cluster is 0.001\n"
     ]
    },
    {
     "name": "stdout",
     "output_type": "stream",
     "text": [
      "SDMVSTRA The correlation between two observations in the same cluster is 0.002\n"
     ]
    },
    {
     "name": "stdout",
     "output_type": "stream",
     "text": [
      "SDMVSTRA The correlation between two observations in the same cluster is -0.001\n"
     ]
    }
   ],
   "source": [
    "for k in range(10):\n",
    "    da[\"noise\"] = np.random.normal(size=da.shape[0])\n",
    "    model = sm.GEE.from_formula(\"noise ~ 1\", groups=\"group\",\n",
    "           cov_struct=sm.cov_struct.Exchangeable(), data=da)\n",
    "    result = model.fit()\n",
    "    print(v, result.cov_struct.summary())"
   ]
  },
  {
   "cell_type": "markdown",
   "metadata": {},
   "source": [
    "## Conditional intraclass correlation\n",
    "\n",
    "The ICC's studied above were *marginal*, in the sense that we were looking\n",
    "at whether, say, the SBP values were more similar within versus between\n",
    "clusters.  To the extent that such differences are found, it may\n",
    "be largely explained by demographic differences among the clusters.  For\n",
    "example, we know from our previous analyses with the NHANES data\n",
    "that older people have higher SBP than younger people.  Also, to some\n",
    "extent some cluster may contain a slightly older set of people than\n",
    "other counties.  Thus, by controlling for age, we might anticipate\n",
    "that the ICC will change.  This is shown in the next analysis:"
   ]
  },
  {
   "cell_type": "code",
   "execution_count": 7,
   "metadata": {},
   "outputs": [
    {
     "name": "stdout",
     "output_type": "stream",
     "text": [
      "The correlation between two observations in the same cluster is 0.019\n"
     ]
    }
   ],
   "source": [
    "model = sm.GEE.from_formula(\"BPXSY1 ~ RIDAGEYR\", groups=\"group\",\n",
    "           cov_struct=sm.cov_struct.Exchangeable(), data=da)\n",
    "result = model.fit()\n",
    "print(result.cov_struct.summary())"
   ]
  }
 ],
 "metadata": {},
 "nbformat": 4,
 "nbformat_minor": 1
}
